{
 "cells": [
  {
   "cell_type": "code",
   "execution_count": 2,
   "metadata": {},
   "outputs": [],
   "source": [
    "import matplotlib.pyplot as plt\n",
    "import pandas as pd\n",
    "import numpy as np\n",
    "from tqdm.auto import tqdm\n",
    "import os\n",
    "import torch, torch.nn as nn, torch.optim as optim, torch.nn.functional as F\n",
    "import math"
   ]
  },
  {
   "cell_type": "code",
   "execution_count": 3,
   "metadata": {},
   "outputs": [],
   "source": [
    "# Changing the time from 00.00.00 to an integer\n",
    "def time_to_int(time):\n",
    "  if (time == float):\n",
    "    return time\n",
    "  time_str = str(time)\n",
    "  time_series = time_str.rsplit(':')\n",
    "  if ('\\\\N' in time_str):\n",
    "    return None\n",
    "  if (not '.' in time_str):\n",
    "    return None\n",
    "  if (len(time_series) > 1):\n",
    "    return int(time_series[0]) * 60 + float(time_series[1])\n",
    "  else:\n",
    "    return float(time_series[0])"
   ]
  },
  {
   "cell_type": "code",
   "execution_count": 4,
   "metadata": {},
   "outputs": [],
   "source": [
    "races = pd.read_csv('data/races.csv')\n",
    "d_standings = pd.read_csv('data/driver_standings.csv')\n",
    "c_standings = pd.read_csv('data/constructor_standings.csv')\n",
    "quali = pd.read_csv('data/qualifying.csv')\n",
    "pit_stops = pd.read_csv('data/pit_stops.csv')\n",
    "lap_times = pd.read_csv('data/lap_times.csv')\n",
    "results = pd.read_csv('data/results.csv')\n",
    "circuits = pd.read_csv('data/circuits.csv')\n",
    "drivers = pd.read_csv('data/drivers.csv')\n",
    "constructor = pd.read_csv('data/constructors.csv')\n",
    "status = pd.read_csv('data/status.csv')"
   ]
  },
  {
   "cell_type": "code",
   "execution_count": 9,
   "metadata": {},
   "outputs": [],
   "source": [
    "def race_info(raceId):\n",
    "  _races = races\n",
    "  _r = _races.query(f'raceId  == {raceId}')\n",
    "  if (_r.empty):\n",
    "    return None, None, None\n",
    "  _year = _r['year'].item()\n",
    "  _round = _r['round'].item()\n",
    "  _circuitId = _r['circuitId'].item()\n",
    "  return _year, _round, _circuitId\n",
    "\n",
    "def circuit_info(circuitId):\n",
    "  _circuits = circuits\n",
    "  _c = _circuits.query(f'circuitId  == {circuitId}')\n",
    "  if (_c.empty):\n",
    "    return None, None, None\n",
    "  _name = _c['name'].item()\n",
    "  _location = _c['location'].item()\n",
    "  _country = _c['country'].item()\n",
    "  return _name, _location, _country\n",
    "\n",
    "def driver_info(id):\n",
    "  _drivers = drivers\n",
    "  _d = _drivers.query(f'driverId  == {id}')\n",
    "  if (_d.empty):\n",
    "    return None, None, None, None, None, None\n",
    "  _number = _d['number'].item()\n",
    "  _code = _d['code'].item()\n",
    "  _forename = _d['forename'].item()\n",
    "  _surname = _d['surname'].item()\n",
    "  _dob = _d['dob'].item()\n",
    "  _nationality = _d['nationality'].item()\n",
    "  return _number, _code, _forename, _surname, _dob, _nationality\n",
    "\n",
    "def constructor_info(id):\n",
    "  _constructor = constructor\n",
    "  _c = _constructor.query(f'constructorId  == {id}')\n",
    "  if (_c.empty):\n",
    "    return None, None\n",
    "  _name = _c['name'].item()\n",
    "  _nationality = _c['nationality'].item()\n",
    "  return _name, _nationality\n",
    "\n",
    "def status_info(id):\n",
    "  _status = status\n",
    "  _s = _status.query(f'statusId == {id}')\n",
    "  if (_s.empty):\n",
    "    return None\n",
    "  _sstr = _s['status'].item()\n",
    "  return _sstr"
   ]
  },
  {
   "cell_type": "code",
   "execution_count": 10,
   "metadata": {},
   "outputs": [],
   "source": [
    "years = [2012, 2013, 2014, 2015, 2016, 2017, 2018, 2019, 2020]\n",
    "for year in years:\n",
    "  if not os.path.exists(f'races_npy/{year}'):\n",
    "        os.makedirs(f'races_npy/{year}')"
   ]
  },
  {
   "cell_type": "code",
   "execution_count": 12,
   "metadata": {},
   "outputs": [],
   "source": [
    "years = [2012, 2013, 2014, 2015, 2016, 2017, 2018, 2019, 2020]\n",
    "\n",
    "status = pd.read_csv('data/status.csv')\n",
    "\n",
    "sbin = {}\n",
    "\n",
    "for y in years:\n",
    "\n",
    "  cur_year = os.listdir(f'races/{y}/')\n",
    "  for r in cur_year:\n",
    "    \n",
    "    cur_race = pd.read_csv(f'races/{y}/{r}')\n",
    "\n",
    "    for j in range(20):\n",
    "      for i in range(len(cur_race) - 1):\n",
    "          s = cur_race[f'status{j+1}'][i]\n",
    "          if (s.item() in sbin):\n",
    "            sbin[s.item()] += 1\n",
    "          else:\n",
    "            sbin [s.item()] = 1"
   ]
  },
  {
   "cell_type": "code",
   "execution_count": 13,
   "metadata": {},
   "outputs": [
    {
     "name": "stdout",
     "output_type": "stream",
     "text": [
      "{0.0: 188101, 81.0: 114, 4.0: 6007, 6.0: 911, 3.0: 2657, 22.0: 859, 5.0: 1944, 31.0: 1191, 11.0: 880, 61.0: 203, 13.0: 66, 43.0: 142, 76.0: 12, 12.0: 317, 26.0: 176, 32.0: 106, 10.0: 578, 65.0: 38, 23.0: 1266, 54.0: 518, 40.0: 151, 45.0: 22, 91.0: 67, 9.0: 505, 20.0: 430, 130.0: 1156, 69.0: 112, 29.0: 222, 36.0: 287, 27.0: 99, 7.0: 145, 63.0: 24, 34.0: 102, 18.0: 16, 51.0: 69, 39.0: 7, 131.0: 972, 8.0: 19, 101.0: 192, 79.0: 23, 44.0: 193, 47.0: 85, 75.0: 428, 132.0: 91, 14.0: 20, 33.0: 41, 16.0: 6, 37.0: 75, 135.0: 31, 96.0: 1, 84.0: 169, 25.0: 178, 30.0: 23, 136.0: 12, 105.0: 49, 38.0: 53, 137.0: 30, 60.0: 4, 2.0: 2, 15.0: 5, 138.0: 35, 21.0: 37, 139.0: 16}\n",
      "63\n"
     ]
    },
    {
     "data": {
      "image/png": "[encoded data removed]",
      "text/plain": [
       "<Figure size 432x288 with 1 Axes>"
      ]
     },
     "metadata": {
      "needs_background": "light"
     },
     "output_type": "display_data"
    }
   ],
   "source": [
    "sbin = {k: sbin[k] for k in sbin if not math.isnan(k)}\n",
    "print(sbin)\n",
    "print(len(sbin))\n",
    "plt.bar(sbin.keys(), sbin.values());"
   ]
  },
  {
   "cell_type": "code",
   "execution_count": 14,
   "metadata": {},
   "outputs": [],
   "source": [
    "sbinstr = {status_info(k): sbin[k] for k in sbin}"
   ]
  },
  {
   "cell_type": "code",
   "execution_count": 30,
   "metadata": {},
   "outputs": [],
   "source": [
    "statdict = {\n",
    "    'No problem': [],\n",
    "    'Lapped': [],\n",
    "    'Accidents/Collisions': [],\n",
    "    'Spun off': [],\n",
    "    'Car issues': [],\n",
    "    'Other': []\n",
    "}\n",
    "statbin = {\n",
    "    'No problem': 0,\n",
    "    'Lapped': 0,\n",
    "    'Accidents/Collisions': 0,\n",
    "    'Spun off': 0,\n",
    "    'Car issues': 0,\n",
    "    'Other': 0\n",
    "}\n",
    "for k in sbin.keys():\n",
    "  s = status_info(k)\n",
    "  if (s == None):\n",
    "    statdict['No problem'].append(k)\n",
    "    statbin['No problem'] += sbin[k]\n",
    "  elif ('Lap' in s):\n",
    "    statdict['Lapped'].append(k)\n",
    "    statbin['Lapped'] += sbin[k]\n",
    "  elif ('Accident' in s or 'Collision' in s):\n",
    "    statdict['Accidents/Collisions'].append(k)\n",
    "    statbin['Accidents/Collisions'] += sbin[k]\n",
    "  elif ('Spun' in s):\n",
    "    statdict['Spun off'].append(k)\n",
    "    statbin['Spun off'] += sbin[k]\n",
    "  elif ('%' in s or \n",
    "        'qualify' in s or \n",
    "        'Excluded' in s or\n",
    "        'Injur' in s or\n",
    "        'Not' in s or\n",
    "        'Retired' in s or\n",
    "        'Withdrew' in s):\n",
    "    statdict['Other'].append(k)\n",
    "    statbin['Other'] += sbin[k]\n",
    "  else:\n",
    "    statdict['Car issues'].append(k)\n",
    "    statbin['Car issues'] += sbin[k]"
   ]
  },
  {
   "cell_type": "code",
   "execution_count": 31,
   "metadata": {},
   "outputs": [
    {
     "data": {
      "image/png": "[encoded data removed]",
      "text/plain": [
       "<Figure size 432x288 with 1 Axes>"
      ]
     },
     "metadata": {
      "needs_background": "light"
     },
     "output_type": "display_data"
    }
   ],
   "source": [
    "plt.bar(statbin.keys(), statbin.values());"
   ]
  },
  {
   "cell_type": "code",
   "execution_count": 19,
   "metadata": {},
   "outputs": [
    {
     "data": {
      "text/plain": [
       "188101"
      ]
     },
     "execution_count": 19,
     "metadata": {},
     "output_type": "execute_result"
    }
   ],
   "source": [
    "statbin['No problem']"
   ]
  },
  {
   "cell_type": "code",
   "execution_count": 17,
   "metadata": {},
   "outputs": [
    {
     "data": {
      "text/plain": [
       "1332"
      ]
     },
     "execution_count": 17,
     "metadata": {},
     "output_type": "execute_result"
    }
   ],
   "source": [
    "statbin['Lapped']"
   ]
  },
  {
   "cell_type": "code",
   "execution_count": 21,
   "metadata": {},
   "outputs": [
    {
     "data": {
      "text/plain": [
       "9820"
      ]
     },
     "execution_count": 21,
     "metadata": {},
     "output_type": "execute_result"
    }
   ],
   "source": [
    "statbin['Accidents/Collisions']"
   ]
  },
  {
   "cell_type": "code",
   "execution_count": 22,
   "metadata": {},
   "outputs": [
    {
     "data": {
      "text/plain": [
       "430"
      ]
     },
     "execution_count": 22,
     "metadata": {},
     "output_type": "execute_result"
    }
   ],
   "source": [
    "statbin['Spun off']"
   ]
  },
  {
   "cell_type": "code",
   "execution_count": 23,
   "metadata": {},
   "outputs": [
    {
     "data": {
      "text/plain": [
       "10783"
      ]
     },
     "execution_count": 23,
     "metadata": {},
     "output_type": "execute_result"
    }
   ],
   "source": [
    "statbin['Car issues']"
   ]
  },
  {
   "cell_type": "code",
   "execution_count": 24,
   "metadata": {},
   "outputs": [
    {
     "data": {
      "text/plain": [
       "1824"
      ]
     },
     "execution_count": 24,
     "metadata": {},
     "output_type": "execute_result"
    }
   ],
   "source": [
    "statbin['Other']"
   ]
  },
  {
   "cell_type": "code",
   "execution_count": 29,
   "metadata": {},
   "outputs": [
    {
     "data": {
      "text/html": [
       "<div>\n",
       "<style scoped>\n",
       "    .dataframe tbody tr th:only-of-type {\n",
       "        vertical-align: middle;\n",
       "    }\n",
       "\n",
       "    .dataframe tbody tr th {\n",
       "        vertical-align: top;\n",
       "    }\n",
       "\n",
       "    .dataframe thead th {\n",
       "        text-align: right;\n",
       "    }\n",
       "</style>\n",
       "<table border=\"1\" class=\"dataframe\">\n",
       "  <thead>\n",
       "    <tr style=\"text-align: right;\">\n",
       "      <th></th>\n",
       "      <th>statusId</th>\n",
       "      <th>status</th>\n",
       "    </tr>\n",
       "  </thead>\n",
       "  <tbody>\n",
       "    <tr>\n",
       "      <th>8</th>\n",
       "      <td>9</td>\n",
       "      <td>Hydraulics</td>\n",
       "    </tr>\n",
       "  </tbody>\n",
       "</table>\n",
       "</div>"
      ],
      "text/plain": [
       "   statusId      status\n",
       "8         9  Hydraulics"
      ]
     },
     "execution_count": 29,
     "metadata": {},
     "output_type": "execute_result"
    }
   ],
   "source": [
    "status[status['statusId'] == 9]"
   ]
  },
  {
   "cell_type": "code",
   "execution_count": 15,
   "metadata": {},
   "outputs": [],
   "source": [
    "stat_emb = [\n",
    "  [4.0, 3.0, 130.0], # Accident/Collision\n",
    "  [22.0, 5.0, 10.0, 23.0, 44.0, 47.0, 30.0, 32.0, 8.0, 38.0, 43.0, 85.0, 9.0, 86.0, 6.0, 2.0, 7.0, 87.0, 71.0, 41.0, 46.0, 37.0, 65.0, 78.0, 25.0, 74.0, 75.0, 26.0, 51.0, 40.0, 79.0, 36.0, 83.0, 80.0, 21.0, 69.0, 72.0, 70.0, 27.0, 60.0, 63.0, 29.0, 64.0, 66.0, 56.0, 59.0, 61.0, 42.0, 39.0, 48.0, 49.0, 34.0, 35.0, 28.0, 24.0, 33.0, 129.0, 76.0, 91.0, 131.0, 101.0, 132.0, 135.0,  84.0,  136.0,  105.0,  137.0,  138.0,  139.0], # Car issues\n",
    "  [11.0,  13.0,  12.0,  14.0,  17.0,  15.0,  16.0, 18.0,  55.0,  58.0,  45.0, 88.0], # Lapped\n",
    "  [0.0], # No problem\n",
    "  [77.0, 73.0, 82.0, 81.0, 62.0, 54.0, 31.0, 96.0], # Other\n",
    "  [20.0] #'Spun off'\n",
    "] \n",
    "\n",
    "def stat_embed(id):\n",
    "  _emb = np.zeros(6)\n",
    "  for i in range(6):\n",
    "    if id in stat_emb[i]:\n",
    "      _emb[i] = 1\n",
    "      return _emb\n",
    "  _emb[4] = 1\n",
    "  return _emb # Other\n",
    "\n",
    "def stat_unbed(array, retired=False):\n",
    "  _a = np.copy(array)\n",
    "  if (retired):\n",
    "    _a[3] = 0\n",
    "  _i = np.argmax(_a)\n",
    "  if (_i == 0):\n",
    "    return 'Accident/Collision'\n",
    "  elif (_i == 1):\n",
    "    return 'Car Issues'\n",
    "  elif (_i == 2):\n",
    "    return 'Lapped'\n",
    "  elif (_i == 3):\n",
    "    return 'No Problem'\n",
    "  elif (_i == 4):\n",
    "    return 'Other'\n",
    "  elif (_i == 5):\n",
    "    return 'Spun off'\n",
    "  else:\n",
    "    return 'something is wrong'"
   ]
  },
  {
   "cell_type": "code",
   "execution_count": 16,
   "metadata": {},
   "outputs": [],
   "source": [
    "def lt_embed(laptime):\n",
    "  # laptime should be a float with 3 decimal places\n",
    "  _lt = math.floor(laptime * 10)\n",
    "  _lt_emb = []\n",
    "  _ret = []\n",
    "  for i in range(4):\n",
    "    _lt_emb.append(int(_lt % 10))\n",
    "    _lt = math.floor(_lt / 10)\n",
    "  _ret = np.zeros(2)\n",
    "  if (_lt_emb[-1] == 1):\n",
    "    _ret[0] = 1\n",
    "  elif (_lt_emb[-1] == 2):\n",
    "    _ret[1] = 1\n",
    "  elif (_lt_emb[-1] > 2):\n",
    "    _ret[0] = 1\n",
    "    _ret[1] = 1\n",
    "  for i in range(3):\n",
    "    _t = np.zeros(10)\n",
    "    _t[_lt_emb[2 - i]] = 1\n",
    "    _ret = np.append(_ret, _t)\n",
    "  return _ret\n",
    "\n",
    "def lt_unbed(l_array):\n",
    "  _ret = 0\n",
    "  if (l_array[0] >= 0.5 and l_array[1] >= 0.5):\n",
    "    _ret += 300\n",
    "  elif (l_array[0] >= 0.5):\n",
    "    _ret += 100\n",
    "  elif (l_array[1] >= 0.5):\n",
    "    _ret += 200\n",
    "  _ret += np.argmax(l_array[2:12]) * 10\n",
    "  _ret += np.argmax(l_array[12:22]) * 1\n",
    "  _ret += np.argmax(l_array[22:32]) * 0.1\n",
    "  return _ret"
   ]
  },
  {
   "cell_type": "code",
   "execution_count": 17,
   "metadata": {},
   "outputs": [
    {
     "name": "stdout",
     "output_type": "stream",
     "text": [
      "32\n"
     ]
    }
   ],
   "source": [
    "l = lt_embed(123.456)\n",
    "print(len(l))"
   ]
  },
  {
   "cell_type": "code",
   "execution_count": 19,
   "metadata": {},
   "outputs": [
    {
     "name": "stdout",
     "output_type": "stream",
     "text": [
      "123.4\n"
     ]
    }
   ],
   "source": [
    "u = lt_unbed(l)\n",
    "print(u)"
   ]
  },
  {
   "cell_type": "code",
   "execution_count": 20,
   "metadata": {},
   "outputs": [],
   "source": [
    "drivers_short = pd.read_csv('data/drivers_short.csv')\n",
    "# from driverId to our id\n",
    "def driver_embed_idx(driverId):\n",
    "  row = drivers_short.query(f'driverId == {driverId}').index\n",
    "  if (row.empty):\n",
    "    return 0\n",
    "  return row.item() + 1\n",
    "\n",
    "# from our id to driverId\n",
    "def driver_unbed_idx(idx):\n",
    "  row = drivers_short.iloc[idx-1]\n",
    "  return row['driverId']\n",
    "\n",
    "# from our id to array\n",
    "def driver_embed(idx):\n",
    "  _e = np.zeros(130)\n",
    "  _e[idx-1] = 1\n",
    "  return _e\n",
    "\n",
    "# from array to our id\n",
    "def driver_unbed(d_array):\n",
    "  return np.argmax(d_array) + 1"
   ]
  },
  {
   "cell_type": "code",
   "execution_count": 21,
   "metadata": {},
   "outputs": [
    {
     "name": "stdout",
     "output_type": "stream",
     "text": [
      "130\n"
     ]
    },
    {
     "data": {
      "text/plain": [
       "array([0., 0., 0., 0., 0., 0., 0., 0., 0., 1., 0., 0., 0., 0., 0., 0., 0.,\n",
       "       0., 0., 0., 0., 0., 0., 0., 0., 0., 0., 0., 0., 0., 0., 0., 0., 0.,\n",
       "       0., 0., 0., 0., 0., 0., 0., 0., 0., 0., 0., 0., 0., 0., 0., 0., 0.,\n",
       "       0., 0., 0., 0., 0., 0., 0., 0., 0., 0., 0., 0., 0., 0., 0., 0., 0.,\n",
       "       0., 0., 0., 0., 0., 0., 0., 0., 0., 0., 0., 0., 0., 0., 0., 0., 0.,\n",
       "       0., 0., 0., 0., 0., 0., 0., 0., 0., 0., 0., 0., 0., 0., 0., 0., 0.,\n",
       "       0., 0., 0., 0., 0., 0., 0., 0., 0., 0., 0., 0., 0., 0., 0., 0., 0.,\n",
       "       0., 0., 0., 0., 0., 0., 0., 0., 0., 0., 0.])"
      ]
     },
     "execution_count": 21,
     "metadata": {},
     "output_type": "execute_result"
    }
   ],
   "source": [
    "a = driver_embed(10)\n",
    "print(len(a))\n",
    "a"
   ]
  },
  {
   "cell_type": "code",
   "execution_count": 22,
   "metadata": {},
   "outputs": [
    {
     "name": "stdout",
     "output_type": "stream",
     "text": [
      "10\n"
     ]
    }
   ],
   "source": [
    "b = driver_unbed(a)\n",
    "print(b)"
   ]
  },
  {
   "cell_type": "code",
   "execution_count": 23,
   "metadata": {},
   "outputs": [
    {
     "data": {
      "text/plain": [
       "71"
      ]
     },
     "execution_count": 23,
     "metadata": {},
     "output_type": "execute_result"
    }
   ],
   "source": [
    "driver_embed_idx(808)"
   ]
  },
  {
   "cell_type": "code",
   "execution_count": 24,
   "metadata": {},
   "outputs": [
    {
     "data": {
      "text/plain": [
       "808"
      ]
     },
     "execution_count": 24,
     "metadata": {},
     "output_type": "execute_result"
    }
   ],
   "source": [
    "driver_unbed_idx(71)"
   ]
  },
  {
   "cell_type": "code",
   "execution_count": 31,
   "metadata": {},
   "outputs": [],
   "source": [
    "# to make feature size consistent, we use laptimes of top 20 drivers\n",
    "class RaceDataset(torch.utils.data.Dataset):\n",
    "  def __init__(self, dir):\n",
    "\n",
    "    self.dir = dir\n",
    "    self.year = 2001\n",
    "    self.round = 1\n",
    "    self.cache = {}\n",
    "\n",
    "    # get a list of races in this season, should be ordered automatically\n",
    "    self.cur_year = os.listdir(self.dir + f'{self.year}/')\n",
    "\n",
    "    if (self.round < len(self.cur_year)):\n",
    "      self.cur_race = pd.read_csv(self.dir + f'{self.year}/{self.cur_year[self.round - 1]}')\n",
    "    else:\n",
    "      self.cur_race = pd.read_csv(self.dir + f'{self.year}/{self.cur_year[-1]}')\n",
    "\n",
    "\n",
    "  def set_year(self, year):\n",
    "    if (year == 2021):\n",
    "      return\n",
    "    self.year = year\n",
    "    self.cur_year = os.listdir(self.dir + f'{self.year}/')\n",
    "    self.cur_year.sort()\n",
    "\n",
    "  def set_round(self, round):\n",
    "    self.round = round\n",
    "    if (self.year == 2021):\n",
    "      return # no data yet\n",
    "    # set round, if round > number of rounds in that season, set to the last round\n",
    "    if (self.round < len(self.cur_year)):\n",
    "      self.cur_race = pd.read_csv(self.dir + f'{self.year}/{self.cur_year[self.round - 1]}')\n",
    "    else:\n",
    "      self.cur_race = pd.read_csv(self.dir + f'{self.year}/{self.cur_year[-1]}')\n",
    "\n",
    "  def next_round(self):\n",
    "    self.round += 1\n",
    "    if (self.round < len(self.cur_year)):\n",
    "      self.set_round(self.round)\n",
    "    else:\n",
    "      self.round = 1\n",
    "      self.set_year(self.year+1)\n",
    "      self.set_round(self.round)\n",
    "\n",
    "\n",
    "  def __len__(self):\n",
    "    # -1 since the last lap will always only be a label\n",
    "    return len(self.cur_race) - 1\n",
    "\n",
    "  def __getitem__(self, i):\n",
    "    if (f'{self.year}_{self.round}_{i}' in self.cache):\n",
    "      cur_ret, next_ret = self.cache[f'{self.year}_{self.round}_{i}']\n",
    "    else:\n",
    "      if not os.path.exists(f'races_npy/{self.year}/{self.round}_{i}_in.npy'):\n",
    "        # Size([141])\n",
    "        cur = self.cur_race.iloc[i].values[1:142] # removes index and trim size\n",
    "        # replace NaN with 0\n",
    "        cur[cur != cur] = 0\n",
    "        cur_ret = np.zeros(130)\n",
    "        cur_ret[int(cur[0])] = 1 # circuitId\n",
    "        for k in range(1, 141, 7):\n",
    "    \n",
    "          d_id = driver_embed(driver_embed_idx(int(cur[k])))\n",
    "          cur_ret = np.append(cur_ret, d_id)\n",
    "    \n",
    "          # 2 bits: top or top3 or top10\n",
    "          d_s = np.zeros(3)\n",
    "          _s = int(cur[k+1])-1\n",
    "          if (_s <= 1):\n",
    "            d_s[0] = 1\n",
    "          if (_s <=3):\n",
    "            d_s[1] = 1\n",
    "          if (_s <=10):\n",
    "            d_s[2] = 1\n",
    "          cur_ret = np.append(cur_ret, d_s)\n",
    "    \n",
    "          c_s = np.zeros(2)\n",
    "          _c = int(cur[k+2])-1\n",
    "          if (_c <= 1):\n",
    "            c_s[0] = 1\n",
    "          if (_c <= 3):\n",
    "            c_s[1] = 1\n",
    "          cur_ret = np.append(cur_ret, c_s)\n",
    "    \n",
    "          pos = np.zeros(21)\n",
    "          _p = int(cur[k+3])-1\n",
    "          if (_p >= 21):\n",
    "            _p = 20\n",
    "          pos[_p] = 1\n",
    "          cur_ret = np.append(cur_ret, pos)\n",
    "    \n",
    "          pit = np.zeros(1)\n",
    "          pit[0] = int(cur[k+4])\n",
    "          cur_ret = np.append(cur_ret, pit)\n",
    "    \n",
    "          stat = stat_embed(int(cur[k+5]))\n",
    "          cur_ret = np.append(cur_ret, stat)\n",
    "    \n",
    "          laptime = lt_embed(float(cur[k+6]))\n",
    "          cur_ret = np.append(cur_ret, laptime)\n",
    "    \n",
    "          rando = np.zeros(5)\n",
    "          cur_ret = np.append(cur_ret, rando)\n",
    "  \n",
    "        np.save(f'races_npy/{self.year}/{self.round}_{i}_in.npy', cur_ret)\n",
    "      else:\n",
    "        cur_ret = np.load(f'races_npy/{self.year}/{self.round}_{i}_in.npy')\n",
    "  \n",
    "      if not os.path.exists(f'races_npy/{self.year}/{self.round}_{i}_exp.npy'):\n",
    "        next = self.cur_race.iloc[i+1].values[1:142] # removes index and trim size\n",
    "        # replace NaN with 0\n",
    "        next[next != next] = 0\n",
    "        for k in range(1, 141, 7):\n",
    "          pos = np.zeros(21)\n",
    "          _p = int(next[k+3])-1\n",
    "          if (_p >= 21):\n",
    "            _p = 20\n",
    "          pos[_p] = 1\n",
    "          if (k == 1):\n",
    "            next_ret = pos\n",
    "          else:\n",
    "            next_ret = np.append(next_ret, pos)\n",
    "    \n",
    "          pit = np.zeros(1)\n",
    "          pit[0] = int(next[k+4])\n",
    "          next_ret = np.append(next_ret, pit)\n",
    "    \n",
    "          stat = stat_embed(int(next[k+5]))\n",
    "          next_ret = np.append(next_ret, stat)\n",
    "    \n",
    "          laptime = lt_embed(float(next[k+6]))\n",
    "          next_ret = np.append(next_ret, laptime)\n",
    "  \n",
    "        np.save(f'races_npy/{self.year}/{self.round}_{i}_exp.npy', next_ret)\n",
    "      else:\n",
    "        next_ret = np.load(f'races_npy/{self.year}/{self.round}_{i}_exp.npy')\n",
    "\n",
    "      self.cache[f'{self.year}_{self.round}_{i}'] = cur_ret, next_ret\n",
    "\n",
    "    return (torch.from_numpy(cur_ret), torch.from_numpy(next_ret))"
   ]
  },
  {
   "cell_type": "code",
   "execution_count": 32,
   "metadata": {},
   "outputs": [],
   "source": [
    "ds = RaceDataset('races/')"
   ]
  },
  {
   "cell_type": "code",
   "execution_count": 33,
   "metadata": {},
   "outputs": [
    {
     "data": {
      "text/plain": [
       "(tensor([0., 1., 0.,  ..., 0., 0., 0.], dtype=torch.float64),\n",
       " tensor([1., 0., 0.,  ..., 0., 0., 0.], dtype=torch.float64))"
      ]
     },
     "execution_count": 33,
     "metadata": {},
     "output_type": "execute_result"
    }
   ],
   "source": [
    "ds[0]"
   ]
  },
  {
   "cell_type": "code",
   "execution_count": 34,
   "metadata": {},
   "outputs": [
    {
     "data": {
      "text/plain": [
       "4130"
      ]
     },
     "execution_count": 34,
     "metadata": {},
     "output_type": "execute_result"
    }
   ],
   "source": [
    "len(ds[0][0])"
   ]
  },
  {
   "cell_type": "code",
   "execution_count": 35,
   "metadata": {},
   "outputs": [
    {
     "data": {
      "text/plain": [
       "1200"
      ]
     },
     "execution_count": 35,
     "metadata": {},
     "output_type": "execute_result"
    }
   ],
   "source": [
    "len(ds[0][1])"
   ]
  },
  {
   "cell_type": "code",
   "execution_count": 36,
   "metadata": {},
   "outputs": [],
   "source": [
    "def pos_df(lap_in, out):\n",
    "  df = pd.DataFrame(columns=['code', 'driver', 'position', 'pitting', 'status', 'laptime'])\n",
    "  _lap = lap_in.detach().clone().numpy()\n",
    "  _o = out.detach().clone().numpy()\n",
    "  _name, _loc, _country = circuit_info(np.argmax(_lap[:130]))\n",
    "  for i in range(20):\n",
    "    _d_idx = driver_unbed_idx(driver_unbed(_lap[130 + i * 200 : 130 + i * 200 + 130]))\n",
    "    _num, _code, _fn, _ln, _, _ = driver_info(_d_idx)\n",
    "    _pos = np.argmax(_o[i*60 : i*60 + 21]) + 1\n",
    "    _pitting = _o[i*60+21]\n",
    "    _retired = False\n",
    "    if (_pos == 21):\n",
    "      _retired = True\n",
    "    _status = stat_unbed(_o[i*60 + 22: i*60 + 28], _retired)\n",
    "    _time = lt_unbed(_o[i*60 + 28: ])\n",
    "    df = df.append({\n",
    "        'code': f'{_code}',\n",
    "        'driver': f'{_fn} {_ln}',\n",
    "        'position': _pos,\n",
    "        'pitting': _pitting,\n",
    "        'status': _status,\n",
    "        'laptime': _time\n",
    "    }, ignore_index=True)\n",
    "\n",
    "  df = df.sort_values(by=['position', 'laptime'], ascending=[True, False])\n",
    "  return _name, _loc, _country, df"
   ]
  },
  {
   "cell_type": "code",
   "execution_count": 41,
   "metadata": {},
   "outputs": [],
   "source": [
    "_, _, _, df = pos_df(ds[0][0], ds[0][1])"
   ]
  },
  {
   "cell_type": "code",
   "execution_count": 42,
   "metadata": {},
   "outputs": [
    {
     "data": {
      "text/html": [
       "<div>\n",
       "<style scoped>\n",
       "    .dataframe tbody tr th:only-of-type {\n",
       "        vertical-align: middle;\n",
       "    }\n",
       "\n",
       "    .dataframe tbody tr th {\n",
       "        vertical-align: top;\n",
       "    }\n",
       "\n",
       "    .dataframe thead th {\n",
       "        text-align: right;\n",
       "    }\n",
       "</style>\n",
       "<table border=\"1\" class=\"dataframe\">\n",
       "  <thead>\n",
       "    <tr style=\"text-align: right;\">\n",
       "      <th></th>\n",
       "      <th>code</th>\n",
       "      <th>driver</th>\n",
       "      <th>position</th>\n",
       "      <th>pitting</th>\n",
       "      <th>status</th>\n",
       "      <th>laptime</th>\n",
       "    </tr>\n",
       "  </thead>\n",
       "  <tbody>\n",
       "    <tr>\n",
       "      <th>0</th>\n",
       "      <td>MSC</td>\n",
       "      <td>Michael Schumacher</td>\n",
       "      <td>1</td>\n",
       "      <td>0.0</td>\n",
       "      <td>No Problem</td>\n",
       "      <td>97.1</td>\n",
       "    </tr>\n",
       "    <tr>\n",
       "      <th>2</th>\n",
       "      <td>\\N</td>\n",
       "      <td>Mika Häkkinen</td>\n",
       "      <td>2</td>\n",
       "      <td>0.0</td>\n",
       "      <td>No Problem</td>\n",
       "      <td>98.4</td>\n",
       "    </tr>\n",
       "    <tr>\n",
       "      <th>3</th>\n",
       "      <td>\\N</td>\n",
       "      <td>Heinz-Harald Frentzen</td>\n",
       "      <td>3</td>\n",
       "      <td>0.0</td>\n",
       "      <td>No Problem</td>\n",
       "      <td>99.6</td>\n",
       "    </tr>\n",
       "    <tr>\n",
       "      <th>4</th>\n",
       "      <td>SCH</td>\n",
       "      <td>Ralf Schumacher</td>\n",
       "      <td>4</td>\n",
       "      <td>0.0</td>\n",
       "      <td>No Problem</td>\n",
       "      <td>101.3</td>\n",
       "    </tr>\n",
       "    <tr>\n",
       "      <th>1</th>\n",
       "      <td>BAR</td>\n",
       "      <td>Rubens Barrichello</td>\n",
       "      <td>5</td>\n",
       "      <td>0.0</td>\n",
       "      <td>No Problem</td>\n",
       "      <td>101.4</td>\n",
       "    </tr>\n",
       "    <tr>\n",
       "      <th>6</th>\n",
       "      <td>TRU</td>\n",
       "      <td>Jarno Trulli</td>\n",
       "      <td>6</td>\n",
       "      <td>0.0</td>\n",
       "      <td>No Problem</td>\n",
       "      <td>102.3</td>\n",
       "    </tr>\n",
       "    <tr>\n",
       "      <th>5</th>\n",
       "      <td>COU</td>\n",
       "      <td>David Coulthard</td>\n",
       "      <td>7</td>\n",
       "      <td>0.0</td>\n",
       "      <td>No Problem</td>\n",
       "      <td>102.8</td>\n",
       "    </tr>\n",
       "    <tr>\n",
       "      <th>7</th>\n",
       "      <td>VIL</td>\n",
       "      <td>Jacques Villeneuve</td>\n",
       "      <td>8</td>\n",
       "      <td>0.0</td>\n",
       "      <td>No Problem</td>\n",
       "      <td>103.3</td>\n",
       "    </tr>\n",
       "    <tr>\n",
       "      <th>9</th>\n",
       "      <td>HEI</td>\n",
       "      <td>Nick Heidfeld</td>\n",
       "      <td>9</td>\n",
       "      <td>0.0</td>\n",
       "      <td>No Problem</td>\n",
       "      <td>104.2</td>\n",
       "    </tr>\n",
       "    <tr>\n",
       "      <th>8</th>\n",
       "      <td>\\N</td>\n",
       "      <td>Olivier Panis</td>\n",
       "      <td>10</td>\n",
       "      <td>0.0</td>\n",
       "      <td>No Problem</td>\n",
       "      <td>104.6</td>\n",
       "    </tr>\n",
       "    <tr>\n",
       "      <th>14</th>\n",
       "      <td>\\N</td>\n",
       "      <td>Jos Verstappen</td>\n",
       "      <td>11</td>\n",
       "      <td>0.0</td>\n",
       "      <td>No Problem</td>\n",
       "      <td>105.6</td>\n",
       "    </tr>\n",
       "    <tr>\n",
       "      <th>16</th>\n",
       "      <td>FIS</td>\n",
       "      <td>Giancarlo Fisichella</td>\n",
       "      <td>12</td>\n",
       "      <td>0.0</td>\n",
       "      <td>No Problem</td>\n",
       "      <td>107.4</td>\n",
       "    </tr>\n",
       "    <tr>\n",
       "      <th>10</th>\n",
       "      <td>MON</td>\n",
       "      <td>Juan Pablo Montoya</td>\n",
       "      <td>13</td>\n",
       "      <td>0.0</td>\n",
       "      <td>No Problem</td>\n",
       "      <td>108.4</td>\n",
       "    </tr>\n",
       "    <tr>\n",
       "      <th>15</th>\n",
       "      <td>BUT</td>\n",
       "      <td>Jenson Button</td>\n",
       "      <td>14</td>\n",
       "      <td>0.0</td>\n",
       "      <td>No Problem</td>\n",
       "      <td>109.7</td>\n",
       "    </tr>\n",
       "    <tr>\n",
       "      <th>13</th>\n",
       "      <td>\\N</td>\n",
       "      <td>Jean Alesi</td>\n",
       "      <td>15</td>\n",
       "      <td>0.0</td>\n",
       "      <td>No Problem</td>\n",
       "      <td>110.8</td>\n",
       "    </tr>\n",
       "    <tr>\n",
       "      <th>12</th>\n",
       "      <td>RAI</td>\n",
       "      <td>Kimi Räikkönen</td>\n",
       "      <td>16</td>\n",
       "      <td>0.0</td>\n",
       "      <td>No Problem</td>\n",
       "      <td>111.3</td>\n",
       "    </tr>\n",
       "    <tr>\n",
       "      <th>17</th>\n",
       "      <td>\\N</td>\n",
       "      <td>Enrique Bernoldi</td>\n",
       "      <td>18</td>\n",
       "      <td>0.0</td>\n",
       "      <td>No Problem</td>\n",
       "      <td>112.2</td>\n",
       "    </tr>\n",
       "    <tr>\n",
       "      <th>18</th>\n",
       "      <td>ALO</td>\n",
       "      <td>Fernando Alonso</td>\n",
       "      <td>19</td>\n",
       "      <td>0.0</td>\n",
       "      <td>No Problem</td>\n",
       "      <td>113.0</td>\n",
       "    </tr>\n",
       "    <tr>\n",
       "      <th>11</th>\n",
       "      <td>\\N</td>\n",
       "      <td>Eddie Irvine</td>\n",
       "      <td>21</td>\n",
       "      <td>0.0</td>\n",
       "      <td>Accident/Collision</td>\n",
       "      <td>115.4</td>\n",
       "    </tr>\n",
       "    <tr>\n",
       "      <th>19</th>\n",
       "      <td>\\N</td>\n",
       "      <td>Gastón Mazzacane</td>\n",
       "      <td>21</td>\n",
       "      <td>0.0</td>\n",
       "      <td>Car Issues</td>\n",
       "      <td>0.0</td>\n",
       "    </tr>\n",
       "  </tbody>\n",
       "</table>\n",
       "</div>"
      ],
      "text/plain": [
       "   code                 driver position  pitting              status  laptime\n",
       "0   MSC     Michael Schumacher        1      0.0          No Problem     97.1\n",
       "2    \\N          Mika Häkkinen        2      0.0          No Problem     98.4\n",
       "3    \\N  Heinz-Harald Frentzen        3      0.0          No Problem     99.6\n",
       "4   SCH        Ralf Schumacher        4      0.0          No Problem    101.3\n",
       "1   BAR     Rubens Barrichello        5      0.0          No Problem    101.4\n",
       "6   TRU           Jarno Trulli        6      0.0          No Problem    102.3\n",
       "5   COU        David Coulthard        7      0.0          No Problem    102.8\n",
       "7   VIL     Jacques Villeneuve        8      0.0          No Problem    103.3\n",
       "9   HEI          Nick Heidfeld        9      0.0          No Problem    104.2\n",
       "8    \\N          Olivier Panis       10      0.0          No Problem    104.6\n",
       "14   \\N         Jos Verstappen       11      0.0          No Problem    105.6\n",
       "16  FIS   Giancarlo Fisichella       12      0.0          No Problem    107.4\n",
       "10  MON     Juan Pablo Montoya       13      0.0          No Problem    108.4\n",
       "15  BUT          Jenson Button       14      0.0          No Problem    109.7\n",
       "13   \\N             Jean Alesi       15      0.0          No Problem    110.8\n",
       "12  RAI         Kimi Räikkönen       16      0.0          No Problem    111.3\n",
       "17   \\N       Enrique Bernoldi       18      0.0          No Problem    112.2\n",
       "18  ALO        Fernando Alonso       19      0.0          No Problem    113.0\n",
       "11   \\N           Eddie Irvine       21      0.0  Accident/Collision    115.4\n",
       "19   \\N       Gastón Mazzacane       21      0.0          Car Issues      0.0"
      ]
     },
     "execution_count": 42,
     "metadata": {},
     "output_type": "execute_result"
    }
   ],
   "source": [
    "df"
   ]
  },
  {
   "cell_type": "code",
   "execution_count": 43,
   "metadata": {},
   "outputs": [
    {
     "data": {
      "text/plain": [
       "torch.Size([4130])"
      ]
     },
     "execution_count": 43,
     "metadata": {},
     "output_type": "execute_result"
    }
   ],
   "source": [
    "ds[0][0].shape"
   ]
  },
  {
   "cell_type": "code",
   "execution_count": 44,
   "metadata": {},
   "outputs": [],
   "source": [
    "# Returns a tensor with the size of in but content of out\n",
    "def out_to_in(in_, out_, random=False):\n",
    "  _ret = in_.detach().clone().numpy()\n",
    "  _o = out_.detach().clone().numpy()\n",
    "  _o = _o.reshape([1200])\n",
    "  _ret = _ret.reshape([4130])\n",
    "  j = 0\n",
    "  for i in range(0, 20):\n",
    "    _ret[130 + i*200 + 135: i*200 + 130 + 195] = _o[j*60: (j+1) * 60]\n",
    "    if (random):\n",
    "      _ret[i * 200 + 130 + 195: (i+1) * 200 + 130] = np.random.uniform(0, 10, [5])\n",
    "    j += 1\n",
    "\n",
    "  return torch.from_numpy(_ret).float()"
   ]
  },
  {
   "cell_type": "code",
   "execution_count": 45,
   "metadata": {},
   "outputs": [],
   "source": [
    "outfromin = out_to_in(ds[0][0], ds[0][1])"
   ]
  },
  {
   "cell_type": "code",
   "execution_count": 46,
   "metadata": {},
   "outputs": [
    {
     "name": "stdout",
     "output_type": "stream",
     "text": [
      "tensor([0., 1., 0.,  ..., 0., 0., 0.])\n"
     ]
    }
   ],
   "source": [
    "print(outfromin)"
   ]
  },
  {
   "cell_type": "code",
   "execution_count": 47,
   "metadata": {},
   "outputs": [],
   "source": [
    "_, _, _, df2 = pos_df(outfromin, ds[0][1])"
   ]
  },
  {
   "cell_type": "code",
   "execution_count": 48,
   "metadata": {},
   "outputs": [
    {
     "data": {
      "text/html": [
       "<div>\n",
       "<style scoped>\n",
       "    .dataframe tbody tr th:only-of-type {\n",
       "        vertical-align: middle;\n",
       "    }\n",
       "\n",
       "    .dataframe tbody tr th {\n",
       "        vertical-align: top;\n",
       "    }\n",
       "\n",
       "    .dataframe thead th {\n",
       "        text-align: right;\n",
       "    }\n",
       "</style>\n",
       "<table border=\"1\" class=\"dataframe\">\n",
       "  <thead>\n",
       "    <tr style=\"text-align: right;\">\n",
       "      <th></th>\n",
       "      <th>code</th>\n",
       "      <th>driver</th>\n",
       "      <th>position</th>\n",
       "      <th>pitting</th>\n",
       "      <th>status</th>\n",
       "      <th>laptime</th>\n",
       "    </tr>\n",
       "  </thead>\n",
       "  <tbody>\n",
       "    <tr>\n",
       "      <th>0</th>\n",
       "      <td>MSC</td>\n",
       "      <td>Michael Schumacher</td>\n",
       "      <td>1</td>\n",
       "      <td>0.0</td>\n",
       "      <td>No Problem</td>\n",
       "      <td>97.1</td>\n",
       "    </tr>\n",
       "    <tr>\n",
       "      <th>2</th>\n",
       "      <td>\\N</td>\n",
       "      <td>Mika Häkkinen</td>\n",
       "      <td>2</td>\n",
       "      <td>0.0</td>\n",
       "      <td>No Problem</td>\n",
       "      <td>98.4</td>\n",
       "    </tr>\n",
       "    <tr>\n",
       "      <th>3</th>\n",
       "      <td>\\N</td>\n",
       "      <td>Heinz-Harald Frentzen</td>\n",
       "      <td>3</td>\n",
       "      <td>0.0</td>\n",
       "      <td>No Problem</td>\n",
       "      <td>99.6</td>\n",
       "    </tr>\n",
       "    <tr>\n",
       "      <th>4</th>\n",
       "      <td>SCH</td>\n",
       "      <td>Ralf Schumacher</td>\n",
       "      <td>4</td>\n",
       "      <td>0.0</td>\n",
       "      <td>No Problem</td>\n",
       "      <td>101.3</td>\n",
       "    </tr>\n",
       "    <tr>\n",
       "      <th>1</th>\n",
       "      <td>BAR</td>\n",
       "      <td>Rubens Barrichello</td>\n",
       "      <td>5</td>\n",
       "      <td>0.0</td>\n",
       "      <td>No Problem</td>\n",
       "      <td>101.4</td>\n",
       "    </tr>\n",
       "    <tr>\n",
       "      <th>6</th>\n",
       "      <td>TRU</td>\n",
       "      <td>Jarno Trulli</td>\n",
       "      <td>6</td>\n",
       "      <td>0.0</td>\n",
       "      <td>No Problem</td>\n",
       "      <td>102.3</td>\n",
       "    </tr>\n",
       "    <tr>\n",
       "      <th>5</th>\n",
       "      <td>COU</td>\n",
       "      <td>David Coulthard</td>\n",
       "      <td>7</td>\n",
       "      <td>0.0</td>\n",
       "      <td>No Problem</td>\n",
       "      <td>102.8</td>\n",
       "    </tr>\n",
       "    <tr>\n",
       "      <th>7</th>\n",
       "      <td>VIL</td>\n",
       "      <td>Jacques Villeneuve</td>\n",
       "      <td>8</td>\n",
       "      <td>0.0</td>\n",
       "      <td>No Problem</td>\n",
       "      <td>103.3</td>\n",
       "    </tr>\n",
       "    <tr>\n",
       "      <th>9</th>\n",
       "      <td>HEI</td>\n",
       "      <td>Nick Heidfeld</td>\n",
       "      <td>9</td>\n",
       "      <td>0.0</td>\n",
       "      <td>No Problem</td>\n",
       "      <td>104.2</td>\n",
       "    </tr>\n",
       "    <tr>\n",
       "      <th>8</th>\n",
       "      <td>\\N</td>\n",
       "      <td>Olivier Panis</td>\n",
       "      <td>10</td>\n",
       "      <td>0.0</td>\n",
       "      <td>No Problem</td>\n",
       "      <td>104.6</td>\n",
       "    </tr>\n",
       "    <tr>\n",
       "      <th>14</th>\n",
       "      <td>\\N</td>\n",
       "      <td>Jos Verstappen</td>\n",
       "      <td>11</td>\n",
       "      <td>0.0</td>\n",
       "      <td>No Problem</td>\n",
       "      <td>105.6</td>\n",
       "    </tr>\n",
       "    <tr>\n",
       "      <th>16</th>\n",
       "      <td>FIS</td>\n",
       "      <td>Giancarlo Fisichella</td>\n",
       "      <td>12</td>\n",
       "      <td>0.0</td>\n",
       "      <td>No Problem</td>\n",
       "      <td>107.4</td>\n",
       "    </tr>\n",
       "    <tr>\n",
       "      <th>10</th>\n",
       "      <td>MON</td>\n",
       "      <td>Juan Pablo Montoya</td>\n",
       "      <td>13</td>\n",
       "      <td>0.0</td>\n",
       "      <td>No Problem</td>\n",
       "      <td>108.4</td>\n",
       "    </tr>\n",
       "    <tr>\n",
       "      <th>15</th>\n",
       "      <td>BUT</td>\n",
       "      <td>Jenson Button</td>\n",
       "      <td>14</td>\n",
       "      <td>0.0</td>\n",
       "      <td>No Problem</td>\n",
       "      <td>109.7</td>\n",
       "    </tr>\n",
       "    <tr>\n",
       "      <th>13</th>\n",
       "      <td>\\N</td>\n",
       "      <td>Jean Alesi</td>\n",
       "      <td>15</td>\n",
       "      <td>0.0</td>\n",
       "      <td>No Problem</td>\n",
       "      <td>110.8</td>\n",
       "    </tr>\n",
       "    <tr>\n",
       "      <th>12</th>\n",
       "      <td>RAI</td>\n",
       "      <td>Kimi Räikkönen</td>\n",
       "      <td>16</td>\n",
       "      <td>0.0</td>\n",
       "      <td>No Problem</td>\n",
       "      <td>111.3</td>\n",
       "    </tr>\n",
       "    <tr>\n",
       "      <th>17</th>\n",
       "      <td>\\N</td>\n",
       "      <td>Enrique Bernoldi</td>\n",
       "      <td>18</td>\n",
       "      <td>0.0</td>\n",
       "      <td>No Problem</td>\n",
       "      <td>112.2</td>\n",
       "    </tr>\n",
       "    <tr>\n",
       "      <th>18</th>\n",
       "      <td>ALO</td>\n",
       "      <td>Fernando Alonso</td>\n",
       "      <td>19</td>\n",
       "      <td>0.0</td>\n",
       "      <td>No Problem</td>\n",
       "      <td>113.0</td>\n",
       "    </tr>\n",
       "    <tr>\n",
       "      <th>11</th>\n",
       "      <td>\\N</td>\n",
       "      <td>Eddie Irvine</td>\n",
       "      <td>21</td>\n",
       "      <td>0.0</td>\n",
       "      <td>Accident/Collision</td>\n",
       "      <td>115.4</td>\n",
       "    </tr>\n",
       "    <tr>\n",
       "      <th>19</th>\n",
       "      <td>\\N</td>\n",
       "      <td>Gastón Mazzacane</td>\n",
       "      <td>21</td>\n",
       "      <td>0.0</td>\n",
       "      <td>Car Issues</td>\n",
       "      <td>0.0</td>\n",
       "    </tr>\n",
       "  </tbody>\n",
       "</table>\n",
       "</div>"
      ],
      "text/plain": [
       "   code                 driver position  pitting              status  laptime\n",
       "0   MSC     Michael Schumacher        1      0.0          No Problem     97.1\n",
       "2    \\N          Mika Häkkinen        2      0.0          No Problem     98.4\n",
       "3    \\N  Heinz-Harald Frentzen        3      0.0          No Problem     99.6\n",
       "4   SCH        Ralf Schumacher        4      0.0          No Problem    101.3\n",
       "1   BAR     Rubens Barrichello        5      0.0          No Problem    101.4\n",
       "6   TRU           Jarno Trulli        6      0.0          No Problem    102.3\n",
       "5   COU        David Coulthard        7      0.0          No Problem    102.8\n",
       "7   VIL     Jacques Villeneuve        8      0.0          No Problem    103.3\n",
       "9   HEI          Nick Heidfeld        9      0.0          No Problem    104.2\n",
       "8    \\N          Olivier Panis       10      0.0          No Problem    104.6\n",
       "14   \\N         Jos Verstappen       11      0.0          No Problem    105.6\n",
       "16  FIS   Giancarlo Fisichella       12      0.0          No Problem    107.4\n",
       "10  MON     Juan Pablo Montoya       13      0.0          No Problem    108.4\n",
       "15  BUT          Jenson Button       14      0.0          No Problem    109.7\n",
       "13   \\N             Jean Alesi       15      0.0          No Problem    110.8\n",
       "12  RAI         Kimi Räikkönen       16      0.0          No Problem    111.3\n",
       "17   \\N       Enrique Bernoldi       18      0.0          No Problem    112.2\n",
       "18  ALO        Fernando Alonso       19      0.0          No Problem    113.0\n",
       "11   \\N           Eddie Irvine       21      0.0  Accident/Collision    115.4\n",
       "19   \\N       Gastón Mazzacane       21      0.0          Car Issues      0.0"
      ]
     },
     "execution_count": 48,
     "metadata": {},
     "output_type": "execute_result"
    }
   ],
   "source": [
    "df2"
   ]
  },
  {
   "cell_type": "code",
   "execution_count": 49,
   "metadata": {},
   "outputs": [
    {
     "data": {
      "text/plain": [
       "3"
      ]
     },
     "execution_count": 49,
     "metadata": {},
     "output_type": "execute_result"
    }
   ],
   "source": [
    "asdf = [1,2,3]\n",
    "max(asdf)"
   ]
  },
  {
   "cell_type": "code",
   "execution_count": 50,
   "metadata": {},
   "outputs": [],
   "source": [
    "class CustomeLoader():\n",
    "  def __init__(self, ds, batchsize):\n",
    "    self.ds = ds\n",
    "    self.batchsize = batchsize\n",
    "    self.reset()\n",
    "\n",
    "  def reset(self):\n",
    "    self.ds.set_year(2001)\n",
    "    self.ds.set_round(1)\n",
    "    self.totalraces = 0\n",
    "    self.totallaps = 0\n",
    "    while (self.ds.year != 2020):\n",
    "      self.totalraces += 1\n",
    "      self.totallaps += len(self.ds)\n",
    "      self.ds.next_round()\n",
    "    \n",
    "    self.num_batches = math.ceil(float(self.totallaps) / self.batchsize)\n",
    "    self.cur_start_year = 2001\n",
    "    self.cur_start_round = 1\n",
    "    self.cur_start_lap = 0\n",
    "    self.sizes = []\n",
    "    # number of laps in burrent batch\n",
    "    for i in range(self.batchsize):\n",
    "      self.sizes.append(len(self.ds))\n",
    "      self.ds.next_round()\n",
    "      if (ds.year == 2020):\n",
    "        break\n",
    "    # reset cur start year and round\n",
    "    self.ds.set_year(self.cur_start_year)\n",
    "    self.ds.set_round(self.cur_start_round)\n",
    "    self.cur_batch_len = max(self.sizes)\n",
    "    self.cur_batch = self.get_cur_batch()\n",
    "\n",
    "  \n",
    "  def get_cur_batch(self):\n",
    "    for i in range(self.batchsize):\n",
    "      if (len(self.ds) > self.cur_start_lap):\n",
    "        in_ = self.ds[self.cur_start_lap][0].unsqueeze(0).unsqueeze(0).float()\n",
    "        exp_ = self.ds[self.cur_start_lap][1].unsqueeze(0).unsqueeze(0).float()\n",
    "      else:\n",
    "        in_ = torch.from_numpy(np.zeros(4130)).unsqueeze(0).unsqueeze(0).float()\n",
    "        exp_ = torch.from_numpy(np.zeros(1200)).unsqueeze(0).unsqueeze(0).float()\n",
    "      if (i == 0):\n",
    "        _bi = in_\n",
    "        _bo = exp_\n",
    "      else:\n",
    "        _bi = torch.cat((_bi, in_), 0)\n",
    "        _bo = torch.cat((_bo, exp_), 0)\n",
    "\n",
    "      self.ds.next_round()\n",
    "      if (self.ds.year == 2020):\n",
    "        break\n",
    "    self.ds.set_year(self.cur_start_year)\n",
    "    self.ds.set_round(self.cur_start_round)\n",
    "    return  _bi, _bo\n",
    "  \n",
    "  def next_batch(self):\n",
    "    if (self.cur_start_lap + 1 < self.cur_batch_len):\n",
    "      self.cur_start_lap += 1\n",
    "    else:\n",
    "      for i in range(self.batchsize):\n",
    "        self.ds.next_round()\n",
    "      self.cur_start_round = self.ds.round\n",
    "      self.cur_start_year = self.ds.year\n",
    "      self.cur_start_lap = 1\n",
    "      for i in range(self.batchsize):\n",
    "        self.sizes.append(len(self.ds.cur_race))\n",
    "        self.ds.next_round()\n",
    "      self.ds.set_year(self.cur_start_year)\n",
    "      self.ds.set_round(self.cur_start_round)\n",
    "      self.cur_batch_len = max(self.sizes)\n",
    "    \n",
    "    self.cur_batch = self.get_cur_batch()\n",
    "  \n",
    "  def __len__(self):\n",
    "    return self.cur_batch_len\n",
    "\n",
    "  def get_batch(self):\n",
    "    _t = self.cur_batch\n",
    "    self.next_batch()\n",
    "    return _t"
   ]
  },
  {
   "cell_type": "code",
   "execution_count": 51,
   "metadata": {},
   "outputs": [],
   "source": [
    "cd = CustomeLoader(ds, 4)"
   ]
  },
  {
   "cell_type": "code",
   "execution_count": 52,
   "metadata": {},
   "outputs": [
    {
     "data": {
      "text/plain": [
       "71"
      ]
     },
     "execution_count": 52,
     "metadata": {},
     "output_type": "execute_result"
    }
   ],
   "source": [
    "len(cd)"
   ]
  },
  {
   "cell_type": "code",
   "execution_count": 53,
   "metadata": {},
   "outputs": [
    {
     "data": {
      "text/plain": [
       "torch.Size([4, 1, 1200])"
      ]
     },
     "execution_count": 53,
     "metadata": {},
     "output_type": "execute_result"
    }
   ],
   "source": [
    "cd.get_batch()[1].shape"
   ]
  },
  {
   "cell_type": "code",
   "execution_count": 54,
   "metadata": {},
   "outputs": [
    {
     "data": {
      "text/plain": [
       "5118"
      ]
     },
     "execution_count": 54,
     "metadata": {},
     "output_type": "execute_result"
    }
   ],
   "source": [
    "cd.num_batches"
   ]
  },
  {
   "cell_type": "code",
   "execution_count": 55,
   "metadata": {},
   "outputs": [
    {
     "data": {
      "text/plain": [
       "336"
      ]
     },
     "execution_count": 55,
     "metadata": {},
     "output_type": "execute_result"
    }
   ],
   "source": [
    "cd.totalraces"
   ]
  },
  {
   "cell_type": "code",
   "execution_count": 60,
   "metadata": {},
   "outputs": [],
   "source": [
    "class RacePredictionModel(nn.Module):\n",
    "    def __init__(self, input_size, output_size, lstm_hids, lstm_layers, dropout):\n",
    "        super(RacePredictionModel, self).__init__()\n",
    "\n",
    "        self.input_size = input_size\n",
    "        self.lstm_layers = lstm_layers\n",
    "        self.lstm_hids = lstm_hids\n",
    "\n",
    "        self.lstm = nn.LSTM(input_size=input_size, hidden_size=lstm_hids, num_layers=lstm_layers, batch_first=True)\n",
    "\n",
    "        self.fc = nn.Linear(lstm_hids, output_size)\n",
    "\n",
    "        nn.init.xavier_uniform_(self.fc.weight.data)\n",
    "        for name, params in self.lstm.named_parameters():\n",
    "            if name[:6] == 'weight':\n",
    "                nn.init.xavier_uniform_(params)\n",
    "            elif name[:4] == 'bias':\n",
    "                nn.init.constant_(params, 0.0)\n",
    "\n",
    "    def zero_states(self, batchsize=1):\n",
    "        hidden_state = torch.zeros(self.lstm_layers, batchsize, self.lstm_hids)\n",
    "        cell_state = torch.zeros(self.lstm_layers, batchsize, self.lstm_hids)\n",
    "        return (hidden_state, cell_state)\n",
    "\n",
    "    def forward(self, ins, prev_states=None):\n",
    "        lstm_outs, next_states = self.lstm(ins, prev_states)\n",
    "        outs = self.fc(lstm_outs)\n",
    "        return outs, next_states"
   ]
  },
  {
   "cell_type": "code",
   "execution_count": 57,
   "metadata": {},
   "outputs": [],
   "source": [
    "# Trains model on data from 2001 to 2019, 2020 is reserved for testing\n",
    "# Method 1\n",
    "# Training procedure:\n",
    "#   for each race:\n",
    "#     set zero states,\n",
    "#     for each lap:\n",
    "#       feed input from dataset,\n",
    "#       calculate loss from output,\n",
    "#       back propagate,\n",
    "def run_train(model, ds, crit, opt, sched):\n",
    "    model.train()\n",
    "    total_loss, total_count = 0, 0\n",
    "\n",
    "    ds.set_year(2001)\n",
    "    ds.set_round(1)\n",
    "\n",
    "    while (ds.year != 2021):\n",
    "      hid_state, cell_state = model.zero_states()\n",
    "      states = hid_state.to(device), cell_state.to(device)\n",
    "      for i in range(len(ds)):\n",
    "          opt.zero_grad()\n",
    "          lap_in, lap_exp = ds[i]\n",
    "          #if (i == 0):\n",
    "          #  lap_in, lap_exp = ds[i]\n",
    "          #else:\n",
    "          #  _, lap_exp = ds[i]\n",
    "          #  lap_in = out_to_in(lap_in.cpu(), lap_out.cpu()).to(device)\n",
    "\n",
    "          # fix shape and type\n",
    "          # input size should be (batch, seq_len, input_size)\n",
    "          # we are not using batches\n",
    "          #if (i == 0):\n",
    "          if (True):\n",
    "            lap_in = lap_in.unsqueeze(0)\n",
    "            lap_exp = lap_exp.unsqueeze(0)\n",
    "          lap_in = lap_in.unsqueeze(0).float()\n",
    "          lap_exp = lap_exp.unsqueeze(0).float()\n",
    "\n",
    "          lap_in, lap_exp = lap_in.to(device), lap_exp.to(device)\n",
    "          lap_out, states = model(lap_in, states)\n",
    "          loss = crit(lap_out, lap_exp)\n",
    "          for s in states:\n",
    "              s.detach_()\n",
    "          loss.backward()\n",
    "          if (math.isnan(loss)):\n",
    "            print('Loss is nan')\n",
    "            print(f'Year: {ds.year}')\n",
    "            print(f'round: {ds.round}')\n",
    "            print(f'lap: {i}')\n",
    "            print(lap_in)\n",
    "            input()\n",
    "          opt.step()\n",
    "          total_loss += loss.item() * 1 #lap_in.size(0) # since we are not doing batches\n",
    "          total_count += 1 #lap_in.size(0)\n",
    "      ds.next_round()\n",
    "\n",
    "    sched.step()\n",
    "    return total_loss/total_count\n",
    "\n",
    "def run_test(model, ds, crit):\n",
    "    model.eval()\n",
    "    total_loss, total_count = 0, 0\n",
    "\n",
    "    ds.set_year(2020)\n",
    "    ds.set_round(1)\n",
    "\n",
    "    hid_state, cell_state = model.zero_states()\n",
    "    states = hid_state.to(device), cell_state.to(device)\n",
    "\n",
    "    for i in range(len(ds)):\n",
    "      #lap_in, lap_exp = ds[i]\n",
    "      if (i == 0):\n",
    "        lap_in, lap_exp = ds[i]\n",
    "      else:\n",
    "        _, lap_exp = ds[i]\n",
    "        lap_in = out_to_in(lap_in.cpu(), lap_out.cpu()).to(device)\n",
    "      #if (i == 0):\n",
    "      if (True):\n",
    "        lap_in = lap_in.unsqueeze(0)\n",
    "        lap_exp = lap_exp.unsqueeze(0)\n",
    "      lap_in = lap_in.unsqueeze(0).float()\n",
    "      lap_exp = lap_exp.unsqueeze(0).float()\n",
    "      lap_in, lap_exp = lap_in.to(device), lap_exp.to(device)\n",
    "      lap_out, states = model(lap_in, states)\n",
    "      loss = crit(lap_out, lap_exp)\n",
    "      total_loss += loss.item() * 1 #lap_in.size(0) # since we are not doing batches\n",
    "      total_count += 1 #lap_in.size(0)\n",
    "\n",
    "    return total_loss/total_count\n",
    "\n",
    "def run_all(model, ds, crit, opt, sched, versionId, n_epochs=10):\n",
    "    for epoch in tqdm(range(n_epochs), desc='epochs', unit='ep'):\n",
    "      train_loss = run_train(model, ds, crit, opt, sched)\n",
    "      test_loss = run_test(model, ds, crit)\n",
    "      tqdm.write(f'epoch {epoch}   train loss {train_loss:.6f}  test loss {test_loss:.6f}')\n",
    "      if epoch % 5 == 0:\n",
    "        torch.save(model.state_dict(), f'cache/{versionId}-{epoch}-loss-{test_loss:.2f}.pth')\n",
    "    torch.save(model.state_dict(), f'cache/{versionId}-{n_epochs}-loss-{test_loss:.2f}.pth')"
   ]
  },
  {
   "cell_type": "code",
   "execution_count": 64,
   "metadata": {},
   "outputs": [],
   "source": [
    "def run_train_2(model, dl, batchsize, crit, opt, sched):\n",
    "    model.train()\n",
    "    total_loss, total_count = 0, 0\n",
    "\n",
    "    for batchnum in range(dl.num_batches):\n",
    "      hid_state, cell_state = model.zero_states(batchsize)\n",
    "      states = hid_state.to(device), cell_state.to(device)\n",
    "      dl.reset()\n",
    "      for i in range(dl.cur_batch_len):\n",
    "        opt.zero_grad()\n",
    "        lap_in, lap_exp = dl.get_batch()\n",
    "  \n",
    "        lap_in, lap_exp = lap_in.to(device), lap_exp.to(device)\n",
    "        lap_out, states = model(lap_in, states)\n",
    "        loss = crit(lap_out, lap_exp)\n",
    "        for s in states:\n",
    "            s.detach_()\n",
    "        loss.backward()\n",
    "        if (math.isnan(loss)):\n",
    "          print('Loss is nan')\n",
    "          print(f'Year: {ds.year}')\n",
    "          print(f'round: {ds.round}')\n",
    "          print(f'lap: {i}')\n",
    "          print(lap_in)\n",
    "          input()\n",
    "        opt.step()\n",
    "        total_loss += loss.item() * 1 #lap_in.size(0) # since we are not doing batches\n",
    "        total_count += 1 #lap_in.size(0)\n",
    "\n",
    "    sched.step()\n",
    "    return total_loss/total_count\n",
    "\n",
    "# same test\n",
    "def run_test(model, ds, crit):\n",
    "    model.eval()\n",
    "    total_loss, total_count = 0, 0\n",
    "\n",
    "    ds.set_year(2020)\n",
    "    ds.set_round(1)\n",
    "\n",
    "    hid_state, cell_state = model.zero_states()\n",
    "    states = hid_state.to(device), cell_state.to(device)\n",
    "\n",
    "    for i in range(len(ds)):\n",
    "      lap_in, lap_exp = ds[i]\n",
    "      #if (i == 0):\n",
    "      if (True):\n",
    "        lap_in = lap_in.unsqueeze(0)\n",
    "        lap_exp = lap_exp.unsqueeze(0)\n",
    "      lap_in = lap_in.unsqueeze(0).float()\n",
    "      lap_exp = lap_exp.unsqueeze(0).float()\n",
    "      lap_in, lap_exp = lap_in.to(device), lap_exp.to(device)\n",
    "      lap_out, states = model(lap_in, states)\n",
    "      loss = crit(lap_out, lap_exp)\n",
    "      total_loss += loss.item() * 1 #lap_in.size(0) # since we are not doing batches\n",
    "      total_count += 1 #lap_in.size(0)\n",
    "\n",
    "    return total_loss/total_count\n",
    "\n",
    "def run_all_2(model, ds, dl, batchsize, crit, opt, sched, versionId, n_epochs=10):\n",
    "    for epoch in tqdm(range(n_epochs), desc='epochs', unit='ep'):\n",
    "      train_loss = run_train_2(model, dl, batchsize, crit, opt, sched)\n",
    "      test_loss = run_test(model, ds, crit)\n",
    "      tqdm.write(f'epoch {epoch}   train loss {train_loss:.6f}  test loss {test_loss:.6f}')\n",
    "      if epoch % 5 == 0:\n",
    "        torch.save(model.state_dict(), f'cache/{versionId}-{epoch}-loss-{test_loss:.2f}.pth')\n",
    "    torch.save(model.state_dict(), f'cache/{versionId}-{n_epochs}-loss-{test_loss:.2f}.pth')"
   ]
  },
  {
   "cell_type": "code",
   "execution_count": 65,
   "metadata": {},
   "outputs": [],
   "source": [
    "ds = RaceDataset('races/')"
   ]
  },
  {
   "cell_type": "code",
   "execution_count": 76,
   "metadata": {},
   "outputs": [],
   "source": [
    "#device = torch.device('cuda:0')\n",
    "device = torch.device('cpu')\n",
    "model = RacePredictionModel(4130, 1200, 1600, 2, 0.2)\n",
    "model.to(device)\n",
    "crit = nn.MSELoss().to(device)\n",
    "opt = optim.Adam(model.parameters(), lr=0.001)\n",
    "sched = optim.lr_scheduler.StepLR(opt, 1, gamma=0.2)\n",
    "dl = CustomeLoader(ds, 32)"
   ]
  },
  {
   "cell_type": "code",
   "execution_count": 77,
   "metadata": {},
   "outputs": [
    {
     "data": {
      "application/vnd.jupyter.widget-view+json": {
       "model_id": "255624dbbc44498c85f7b17f8d24b747",
       "version_major": 2,
       "version_minor": 0
      },
      "text/plain": [
       "HBox(children=(HTML(value='epochs'), FloatProgress(value=0.0, max=10.0), HTML(value='')))"
      ]
     },
     "metadata": {},
     "output_type": "display_data"
    },
    {
     "name": "stdout",
     "output_type": "stream",
     "text": [
      "\n"
     ]
    },
    {
     "ename": "KeyboardInterrupt",
     "evalue": "",
     "output_type": "error",
     "traceback": [
      "\u001b[1;31m---------------------------------------------------------------------------\u001b[0m",
      "\u001b[1;31mKeyboardInterrupt\u001b[0m                         Traceback (most recent call last)",
      "\u001b[1;32m<ipython-input-77-46b8ef50d67f>\u001b[0m in \u001b[0;36m<module>\u001b[1;34m\u001b[0m\n\u001b[0;32m      1\u001b[0m \u001b[1;31m#run_all(model, ds, crit, opt, sched, 34.1, 10)\u001b[0m\u001b[1;33m\u001b[0m\u001b[1;33m\u001b[0m\u001b[1;33m\u001b[0m\u001b[0m\n\u001b[1;32m----> 2\u001b[1;33m \u001b[0mrun_all_2\u001b[0m\u001b[1;33m(\u001b[0m\u001b[0mmodel\u001b[0m\u001b[1;33m,\u001b[0m \u001b[0mds\u001b[0m\u001b[1;33m,\u001b[0m \u001b[0mdl\u001b[0m\u001b[1;33m,\u001b[0m \u001b[1;36m32\u001b[0m\u001b[1;33m,\u001b[0m \u001b[0mcrit\u001b[0m\u001b[1;33m,\u001b[0m \u001b[0mopt\u001b[0m\u001b[1;33m,\u001b[0m \u001b[0msched\u001b[0m\u001b[1;33m,\u001b[0m \u001b[1;36m32\u001b[0m\u001b[1;33m,\u001b[0m \u001b[1;36m10\u001b[0m\u001b[1;33m)\u001b[0m\u001b[1;33m\u001b[0m\u001b[1;33m\u001b[0m\u001b[0m\n\u001b[0m",
      "\u001b[1;32m<ipython-input-64-92608e726920>\u001b[0m in \u001b[0;36mrun_all_2\u001b[1;34m(model, ds, dl, batchsize, crit, opt, sched, versionId, n_epochs)\u001b[0m\n\u001b[0;32m     60\u001b[0m \u001b[1;32mdef\u001b[0m \u001b[0mrun_all_2\u001b[0m\u001b[1;33m(\u001b[0m\u001b[0mmodel\u001b[0m\u001b[1;33m,\u001b[0m \u001b[0mds\u001b[0m\u001b[1;33m,\u001b[0m \u001b[0mdl\u001b[0m\u001b[1;33m,\u001b[0m \u001b[0mbatchsize\u001b[0m\u001b[1;33m,\u001b[0m \u001b[0mcrit\u001b[0m\u001b[1;33m,\u001b[0m \u001b[0mopt\u001b[0m\u001b[1;33m,\u001b[0m \u001b[0msched\u001b[0m\u001b[1;33m,\u001b[0m \u001b[0mversionId\u001b[0m\u001b[1;33m,\u001b[0m \u001b[0mn_epochs\u001b[0m\u001b[1;33m=\u001b[0m\u001b[1;36m10\u001b[0m\u001b[1;33m)\u001b[0m\u001b[1;33m:\u001b[0m\u001b[1;33m\u001b[0m\u001b[1;33m\u001b[0m\u001b[0m\n\u001b[0;32m     61\u001b[0m     \u001b[1;32mfor\u001b[0m \u001b[0mepoch\u001b[0m \u001b[1;32min\u001b[0m \u001b[0mtqdm\u001b[0m\u001b[1;33m(\u001b[0m\u001b[0mrange\u001b[0m\u001b[1;33m(\u001b[0m\u001b[0mn_epochs\u001b[0m\u001b[1;33m)\u001b[0m\u001b[1;33m,\u001b[0m \u001b[0mdesc\u001b[0m\u001b[1;33m=\u001b[0m\u001b[1;34m'epochs'\u001b[0m\u001b[1;33m,\u001b[0m \u001b[0munit\u001b[0m\u001b[1;33m=\u001b[0m\u001b[1;34m'ep'\u001b[0m\u001b[1;33m)\u001b[0m\u001b[1;33m:\u001b[0m\u001b[1;33m\u001b[0m\u001b[1;33m\u001b[0m\u001b[0m\n\u001b[1;32m---> 62\u001b[1;33m       \u001b[0mtrain_loss\u001b[0m \u001b[1;33m=\u001b[0m \u001b[0mrun_train_2\u001b[0m\u001b[1;33m(\u001b[0m\u001b[0mmodel\u001b[0m\u001b[1;33m,\u001b[0m \u001b[0mdl\u001b[0m\u001b[1;33m,\u001b[0m \u001b[0mbatchsize\u001b[0m\u001b[1;33m,\u001b[0m \u001b[0mcrit\u001b[0m\u001b[1;33m,\u001b[0m \u001b[0mopt\u001b[0m\u001b[1;33m,\u001b[0m \u001b[0msched\u001b[0m\u001b[1;33m)\u001b[0m\u001b[1;33m\u001b[0m\u001b[1;33m\u001b[0m\u001b[0m\n\u001b[0m\u001b[0;32m     63\u001b[0m       \u001b[0mtest_loss\u001b[0m \u001b[1;33m=\u001b[0m \u001b[0mrun_test\u001b[0m\u001b[1;33m(\u001b[0m\u001b[0mmodel\u001b[0m\u001b[1;33m,\u001b[0m \u001b[0mds\u001b[0m\u001b[1;33m,\u001b[0m \u001b[0mcrit\u001b[0m\u001b[1;33m)\u001b[0m\u001b[1;33m\u001b[0m\u001b[1;33m\u001b[0m\u001b[0m\n\u001b[0;32m     64\u001b[0m       \u001b[0mtqdm\u001b[0m\u001b[1;33m.\u001b[0m\u001b[0mwrite\u001b[0m\u001b[1;33m(\u001b[0m\u001b[1;34mf'epoch {epoch}   train loss {train_loss:.6f}  test loss {test_loss:.6f}'\u001b[0m\u001b[1;33m)\u001b[0m\u001b[1;33m\u001b[0m\u001b[1;33m\u001b[0m\u001b[0m\n",
      "\u001b[1;32m<ipython-input-64-92608e726920>\u001b[0m in \u001b[0;36mrun_train_2\u001b[1;34m(model, dl, batchsize, crit, opt, sched)\u001b[0m\n\u001b[0;32m     12\u001b[0m \u001b[1;33m\u001b[0m\u001b[0m\n\u001b[0;32m     13\u001b[0m         \u001b[0mlap_in\u001b[0m\u001b[1;33m,\u001b[0m \u001b[0mlap_exp\u001b[0m \u001b[1;33m=\u001b[0m \u001b[0mlap_in\u001b[0m\u001b[1;33m.\u001b[0m\u001b[0mto\u001b[0m\u001b[1;33m(\u001b[0m\u001b[0mdevice\u001b[0m\u001b[1;33m)\u001b[0m\u001b[1;33m,\u001b[0m \u001b[0mlap_exp\u001b[0m\u001b[1;33m.\u001b[0m\u001b[0mto\u001b[0m\u001b[1;33m(\u001b[0m\u001b[0mdevice\u001b[0m\u001b[1;33m)\u001b[0m\u001b[1;33m\u001b[0m\u001b[1;33m\u001b[0m\u001b[0m\n\u001b[1;32m---> 14\u001b[1;33m         \u001b[0mlap_out\u001b[0m\u001b[1;33m,\u001b[0m \u001b[0mstates\u001b[0m \u001b[1;33m=\u001b[0m \u001b[0mmodel\u001b[0m\u001b[1;33m(\u001b[0m\u001b[0mlap_in\u001b[0m\u001b[1;33m,\u001b[0m \u001b[0mstates\u001b[0m\u001b[1;33m)\u001b[0m\u001b[1;33m\u001b[0m\u001b[1;33m\u001b[0m\u001b[0m\n\u001b[0m\u001b[0;32m     15\u001b[0m         \u001b[0mloss\u001b[0m \u001b[1;33m=\u001b[0m \u001b[0mcrit\u001b[0m\u001b[1;33m(\u001b[0m\u001b[0mlap_out\u001b[0m\u001b[1;33m,\u001b[0m \u001b[0mlap_exp\u001b[0m\u001b[1;33m)\u001b[0m\u001b[1;33m\u001b[0m\u001b[1;33m\u001b[0m\u001b[0m\n\u001b[0;32m     16\u001b[0m         \u001b[1;32mfor\u001b[0m \u001b[0ms\u001b[0m \u001b[1;32min\u001b[0m \u001b[0mstates\u001b[0m\u001b[1;33m:\u001b[0m\u001b[1;33m\u001b[0m\u001b[1;33m\u001b[0m\u001b[0m\n",
      "\u001b[1;32m~\\anaconda3\\envs\\learn-env\\lib\\site-packages\\torch\\nn\\modules\\module.py\u001b[0m in \u001b[0;36m_call_impl\u001b[1;34m(self, *input, **kwargs)\u001b[0m\n\u001b[0;32m   1100\u001b[0m         if not (self._backward_hooks or self._forward_hooks or self._forward_pre_hooks or _global_backward_hooks\n\u001b[0;32m   1101\u001b[0m                 or _global_forward_hooks or _global_forward_pre_hooks):\n\u001b[1;32m-> 1102\u001b[1;33m             \u001b[1;32mreturn\u001b[0m \u001b[0mforward_call\u001b[0m\u001b[1;33m(\u001b[0m\u001b[1;33m*\u001b[0m\u001b[0minput\u001b[0m\u001b[1;33m,\u001b[0m \u001b[1;33m**\u001b[0m\u001b[0mkwargs\u001b[0m\u001b[1;33m)\u001b[0m\u001b[1;33m\u001b[0m\u001b[1;33m\u001b[0m\u001b[0m\n\u001b[0m\u001b[0;32m   1103\u001b[0m         \u001b[1;31m# Do not call functions when jit is used\u001b[0m\u001b[1;33m\u001b[0m\u001b[1;33m\u001b[0m\u001b[1;33m\u001b[0m\u001b[0m\n\u001b[0;32m   1104\u001b[0m         \u001b[0mfull_backward_hooks\u001b[0m\u001b[1;33m,\u001b[0m \u001b[0mnon_full_backward_hooks\u001b[0m \u001b[1;33m=\u001b[0m \u001b[1;33m[\u001b[0m\u001b[1;33m]\u001b[0m\u001b[1;33m,\u001b[0m \u001b[1;33m[\u001b[0m\u001b[1;33m]\u001b[0m\u001b[1;33m\u001b[0m\u001b[1;33m\u001b[0m\u001b[0m\n",
      "\u001b[1;32m<ipython-input-60-7cb9c9fe0802>\u001b[0m in \u001b[0;36mforward\u001b[1;34m(self, ins, prev_states)\u001b[0m\n\u001b[0;32m     24\u001b[0m \u001b[1;33m\u001b[0m\u001b[0m\n\u001b[0;32m     25\u001b[0m     \u001b[1;32mdef\u001b[0m \u001b[0mforward\u001b[0m\u001b[1;33m(\u001b[0m\u001b[0mself\u001b[0m\u001b[1;33m,\u001b[0m \u001b[0mins\u001b[0m\u001b[1;33m,\u001b[0m \u001b[0mprev_states\u001b[0m\u001b[1;33m=\u001b[0m\u001b[1;32mNone\u001b[0m\u001b[1;33m)\u001b[0m\u001b[1;33m:\u001b[0m\u001b[1;33m\u001b[0m\u001b[1;33m\u001b[0m\u001b[0m\n\u001b[1;32m---> 26\u001b[1;33m         \u001b[0mlstm_outs\u001b[0m\u001b[1;33m,\u001b[0m \u001b[0mnext_states\u001b[0m \u001b[1;33m=\u001b[0m \u001b[0mself\u001b[0m\u001b[1;33m.\u001b[0m\u001b[0mlstm\u001b[0m\u001b[1;33m(\u001b[0m\u001b[0mins\u001b[0m\u001b[1;33m,\u001b[0m \u001b[0mprev_states\u001b[0m\u001b[1;33m)\u001b[0m\u001b[1;33m\u001b[0m\u001b[1;33m\u001b[0m\u001b[0m\n\u001b[0m\u001b[0;32m     27\u001b[0m         \u001b[0mouts\u001b[0m \u001b[1;33m=\u001b[0m \u001b[0mself\u001b[0m\u001b[1;33m.\u001b[0m\u001b[0mfc\u001b[0m\u001b[1;33m(\u001b[0m\u001b[0mlstm_outs\u001b[0m\u001b[1;33m)\u001b[0m\u001b[1;33m\u001b[0m\u001b[1;33m\u001b[0m\u001b[0m\n\u001b[0;32m     28\u001b[0m         \u001b[1;32mreturn\u001b[0m \u001b[0mouts\u001b[0m\u001b[1;33m,\u001b[0m \u001b[0mnext_states\u001b[0m\u001b[1;33m\u001b[0m\u001b[1;33m\u001b[0m\u001b[0m\n",
      "\u001b[1;32m~\\anaconda3\\envs\\learn-env\\lib\\site-packages\\torch\\nn\\modules\\module.py\u001b[0m in \u001b[0;36m_call_impl\u001b[1;34m(self, *input, **kwargs)\u001b[0m\n\u001b[0;32m   1100\u001b[0m         if not (self._backward_hooks or self._forward_hooks or self._forward_pre_hooks or _global_backward_hooks\n\u001b[0;32m   1101\u001b[0m                 or _global_forward_hooks or _global_forward_pre_hooks):\n\u001b[1;32m-> 1102\u001b[1;33m             \u001b[1;32mreturn\u001b[0m \u001b[0mforward_call\u001b[0m\u001b[1;33m(\u001b[0m\u001b[1;33m*\u001b[0m\u001b[0minput\u001b[0m\u001b[1;33m,\u001b[0m \u001b[1;33m**\u001b[0m\u001b[0mkwargs\u001b[0m\u001b[1;33m)\u001b[0m\u001b[1;33m\u001b[0m\u001b[1;33m\u001b[0m\u001b[0m\n\u001b[0m\u001b[0;32m   1103\u001b[0m         \u001b[1;31m# Do not call functions when jit is used\u001b[0m\u001b[1;33m\u001b[0m\u001b[1;33m\u001b[0m\u001b[1;33m\u001b[0m\u001b[0m\n\u001b[0;32m   1104\u001b[0m         \u001b[0mfull_backward_hooks\u001b[0m\u001b[1;33m,\u001b[0m \u001b[0mnon_full_backward_hooks\u001b[0m \u001b[1;33m=\u001b[0m \u001b[1;33m[\u001b[0m\u001b[1;33m]\u001b[0m\u001b[1;33m,\u001b[0m \u001b[1;33m[\u001b[0m\u001b[1;33m]\u001b[0m\u001b[1;33m\u001b[0m\u001b[1;33m\u001b[0m\u001b[0m\n",
      "\u001b[1;32m~\\anaconda3\\envs\\learn-env\\lib\\site-packages\\torch\\nn\\modules\\rnn.py\u001b[0m in \u001b[0;36mforward\u001b[1;34m(self, input, hx)\u001b[0m\n\u001b[0;32m    689\u001b[0m         \u001b[0mself\u001b[0m\u001b[1;33m.\u001b[0m\u001b[0mcheck_forward_args\u001b[0m\u001b[1;33m(\u001b[0m\u001b[0minput\u001b[0m\u001b[1;33m,\u001b[0m \u001b[0mhx\u001b[0m\u001b[1;33m,\u001b[0m \u001b[0mbatch_sizes\u001b[0m\u001b[1;33m)\u001b[0m\u001b[1;33m\u001b[0m\u001b[1;33m\u001b[0m\u001b[0m\n\u001b[0;32m    690\u001b[0m         \u001b[1;32mif\u001b[0m \u001b[0mbatch_sizes\u001b[0m \u001b[1;32mis\u001b[0m \u001b[1;32mNone\u001b[0m\u001b[1;33m:\u001b[0m\u001b[1;33m\u001b[0m\u001b[1;33m\u001b[0m\u001b[0m\n\u001b[1;32m--> 691\u001b[1;33m             result = _VF.lstm(input, hx, self._flat_weights, self.bias, self.num_layers,\n\u001b[0m\u001b[0;32m    692\u001b[0m                               self.dropout, self.training, self.bidirectional, self.batch_first)\n\u001b[0;32m    693\u001b[0m         \u001b[1;32melse\u001b[0m\u001b[1;33m:\u001b[0m\u001b[1;33m\u001b[0m\u001b[1;33m\u001b[0m\u001b[0m\n",
      "\u001b[1;31mKeyboardInterrupt\u001b[0m: "
     ]
    }
   ],
   "source": [
    "#run_all(model, ds, crit, opt, sched, 34.1, 10)\n",
    "run_all_2(model, ds, dl, 32, crit, opt, sched, 32, 10)"
   ]
  },
  {
   "cell_type": "code",
   "execution_count": 67,
   "metadata": {},
   "outputs": [
    {
     "data": {
      "text/plain": [
       "0.11726750412457426"
      ]
     },
     "execution_count": 67,
     "metadata": {},
     "output_type": "execute_result"
    }
   ],
   "source": [
    "run_test(model, ds, crit)"
   ]
  },
  {
   "cell_type": "code",
   "execution_count": 69,
   "metadata": {},
   "outputs": [
    {
     "name": "stdout",
     "output_type": "stream",
     "text": [
      "tensor([ 0.7214, -0.0136, -0.0097,  ...,  0.0211, -0.0226, -0.0212],\n",
      "       grad_fn=<SqueezeBackward0>)\n"
     ]
    },
    {
     "data": {
      "text/plain": [
       "('Yas Marina Circuit',\n",
       " 'Abu Dhabi',\n",
       " 'UAE',\n",
       "    code              driver position   pitting              status  laptime\n",
       " 0   VER      Max Verstappen        1  0.008309          No Problem     90.3\n",
       " 5   SAI        Carlos Sainz        2  0.002127          No Problem     89.3\n",
       " 1   BOT     Valtteri Bottas        3 -0.024242          No Problem     99.2\n",
       " 8   GAS        Pierre Gasly        4 -0.041149          No Problem     90.6\n",
       " 9   OCO        Esteban Ocon        5 -0.015432          No Problem     91.3\n",
       " 3   NOR        Lando Norris        6 -0.018467          No Problem     90.6\n",
       " 12  VET    Sebastian Vettel        7  0.054773          No Problem     91.2\n",
       " 11  LEC     Charles Leclerc        8 -0.017438          No Problem     93.8\n",
       " 13  GIO  Antonio Giovinazzi       10 -0.060688          No Problem     93.6\n",
       " 14  RAI      Kimi Räikkönen       11 -0.014387          No Problem     92.9\n",
       " 18  PER        Sergio Pérez       12  0.000970          No Problem     92.8\n",
       " 16  FIT   Pietro Fittipaldi       13 -0.005443          No Problem     95.5\n",
       " 15  RUS      George Russell       14 -0.014006          No Problem     95.0\n",
       " 2   HAM      Lewis Hamilton       21 -0.013007          Car Issues      0.0\n",
       " 4   ALB     Alexander Albon       21 -0.015346  Accident/Collision      0.0\n",
       " 6   KVY        Daniil Kvyat       21  0.014397          Car Issues      0.0\n",
       " 7   STR        Lance Stroll       21  0.041222  Accident/Collision      0.0\n",
       " 10  RIC    Daniel Ricciardo       21  0.013594          Car Issues      0.0\n",
       " 17  LAT     Nicholas Latifi       21  0.000668            Spun off      0.0\n",
       " 19  MAG     Kevin Magnussen       21 -0.009135          Car Issues      0.0)"
      ]
     },
     "execution_count": 69,
     "metadata": {},
     "output_type": "execute_result"
    }
   ],
   "source": [
    "cpu = torch.device('cpu')\n",
    "model.eval()\n",
    "ds.set_year(2020)\n",
    "ds.set_round(20)\n",
    "p, n = ds[10]\n",
    "p = p.to(device)\n",
    "hid_state, cell_state = model.zero_states()\n",
    "states = (hid_state.to(device), cell_state.to(device))\n",
    "out, s = model(p.unsqueeze(0).unsqueeze(0).float(), states)\n",
    "out = out.squeeze().squeeze()\n",
    "print(out)\n",
    "pos_df(p.to(cpu), out.to(cpu))"
   ]
  },
  {
   "cell_type": "code",
   "execution_count": 74,
   "metadata": {},
   "outputs": [
    {
     "ename": "RuntimeError",
     "evalue": "PytorchStreamReader failed reading zip archive: failed finding central directory",
     "output_type": "error",
     "traceback": [
      "\u001b[1;31m---------------------------------------------------------------------------\u001b[0m",
      "\u001b[1;31mRuntimeError\u001b[0m                              Traceback (most recent call last)",
      "\u001b[1;32m<ipython-input-74-9f31e2af0d73>\u001b[0m in \u001b[0;36m<module>\u001b[1;34m\u001b[0m\n\u001b[1;32m----> 1\u001b[1;33m \u001b[0mmodel\u001b[0m\u001b[1;33m.\u001b[0m\u001b[0mload_state_dict\u001b[0m\u001b[1;33m(\u001b[0m\u001b[0mtorch\u001b[0m\u001b[1;33m.\u001b[0m\u001b[0mload\u001b[0m\u001b[1;33m(\u001b[0m\u001b[1;34m'cache/44.2-5-loss-0.07_1.pth'\u001b[0m\u001b[1;33m)\u001b[0m\u001b[1;33m)\u001b[0m\u001b[1;33m\u001b[0m\u001b[1;33m\u001b[0m\u001b[0m\n\u001b[0m\u001b[0;32m      2\u001b[0m \u001b[1;31m#model.load_state_dict(torch.load('/content/drive/My Drive/f1ml/sd/26-5-loss-0.03.pth'))\u001b[0m\u001b[1;33m\u001b[0m\u001b[1;33m\u001b[0m\u001b[1;33m\u001b[0m\u001b[0m\n\u001b[0;32m      3\u001b[0m \u001b[1;31m#model.load_state_dict(torch.load('/content/drive/My Drive/f1ml/sd/11-5-loss-37.31.pth'))\u001b[0m\u001b[1;33m\u001b[0m\u001b[1;33m\u001b[0m\u001b[1;33m\u001b[0m\u001b[0m\n\u001b[0;32m      4\u001b[0m \u001b[0mmodel\u001b[0m\u001b[1;33m.\u001b[0m\u001b[0meval\u001b[0m\u001b[1;33m(\u001b[0m\u001b[1;33m)\u001b[0m\u001b[1;33m\u001b[0m\u001b[1;33m\u001b[0m\u001b[0m\n\u001b[0;32m      5\u001b[0m \u001b[0mds\u001b[0m\u001b[1;33m.\u001b[0m\u001b[0mset_year\u001b[0m\u001b[1;33m(\u001b[0m\u001b[1;36m2020\u001b[0m\u001b[1;33m)\u001b[0m\u001b[1;33m\u001b[0m\u001b[1;33m\u001b[0m\u001b[0m\n",
      "\u001b[1;32m~\\anaconda3\\envs\\learn-env\\lib\\site-packages\\torch\\serialization.py\u001b[0m in \u001b[0;36mload\u001b[1;34m(f, map_location, pickle_module, **pickle_load_args)\u001b[0m\n\u001b[0;32m    598\u001b[0m             \u001b[1;31m# reset back to the original position.\u001b[0m\u001b[1;33m\u001b[0m\u001b[1;33m\u001b[0m\u001b[1;33m\u001b[0m\u001b[0m\n\u001b[0;32m    599\u001b[0m             \u001b[0morig_position\u001b[0m \u001b[1;33m=\u001b[0m \u001b[0mopened_file\u001b[0m\u001b[1;33m.\u001b[0m\u001b[0mtell\u001b[0m\u001b[1;33m(\u001b[0m\u001b[1;33m)\u001b[0m\u001b[1;33m\u001b[0m\u001b[1;33m\u001b[0m\u001b[0m\n\u001b[1;32m--> 600\u001b[1;33m             \u001b[1;32mwith\u001b[0m \u001b[0m_open_zipfile_reader\u001b[0m\u001b[1;33m(\u001b[0m\u001b[0mopened_file\u001b[0m\u001b[1;33m)\u001b[0m \u001b[1;32mas\u001b[0m \u001b[0mopened_zipfile\u001b[0m\u001b[1;33m:\u001b[0m\u001b[1;33m\u001b[0m\u001b[1;33m\u001b[0m\u001b[0m\n\u001b[0m\u001b[0;32m    601\u001b[0m                 \u001b[1;32mif\u001b[0m \u001b[0m_is_torchscript_zip\u001b[0m\u001b[1;33m(\u001b[0m\u001b[0mopened_zipfile\u001b[0m\u001b[1;33m)\u001b[0m\u001b[1;33m:\u001b[0m\u001b[1;33m\u001b[0m\u001b[1;33m\u001b[0m\u001b[0m\n\u001b[0;32m    602\u001b[0m                     warnings.warn(\"'torch.load' received a zip file that looks like a TorchScript archive\"\n",
      "\u001b[1;32m~\\anaconda3\\envs\\learn-env\\lib\\site-packages\\torch\\serialization.py\u001b[0m in \u001b[0;36m__init__\u001b[1;34m(self, name_or_buffer)\u001b[0m\n\u001b[0;32m    240\u001b[0m \u001b[1;32mclass\u001b[0m \u001b[0m_open_zipfile_reader\u001b[0m\u001b[1;33m(\u001b[0m\u001b[0m_opener\u001b[0m\u001b[1;33m)\u001b[0m\u001b[1;33m:\u001b[0m\u001b[1;33m\u001b[0m\u001b[1;33m\u001b[0m\u001b[0m\n\u001b[0;32m    241\u001b[0m     \u001b[1;32mdef\u001b[0m \u001b[0m__init__\u001b[0m\u001b[1;33m(\u001b[0m\u001b[0mself\u001b[0m\u001b[1;33m,\u001b[0m \u001b[0mname_or_buffer\u001b[0m\u001b[1;33m)\u001b[0m \u001b[1;33m->\u001b[0m \u001b[1;32mNone\u001b[0m\u001b[1;33m:\u001b[0m\u001b[1;33m\u001b[0m\u001b[1;33m\u001b[0m\u001b[0m\n\u001b[1;32m--> 242\u001b[1;33m         \u001b[0msuper\u001b[0m\u001b[1;33m(\u001b[0m\u001b[0m_open_zipfile_reader\u001b[0m\u001b[1;33m,\u001b[0m \u001b[0mself\u001b[0m\u001b[1;33m)\u001b[0m\u001b[1;33m.\u001b[0m\u001b[0m__init__\u001b[0m\u001b[1;33m(\u001b[0m\u001b[0mtorch\u001b[0m\u001b[1;33m.\u001b[0m\u001b[0m_C\u001b[0m\u001b[1;33m.\u001b[0m\u001b[0mPyTorchFileReader\u001b[0m\u001b[1;33m(\u001b[0m\u001b[0mname_or_buffer\u001b[0m\u001b[1;33m)\u001b[0m\u001b[1;33m)\u001b[0m\u001b[1;33m\u001b[0m\u001b[1;33m\u001b[0m\u001b[0m\n\u001b[0m\u001b[0;32m    243\u001b[0m \u001b[1;33m\u001b[0m\u001b[0m\n\u001b[0;32m    244\u001b[0m \u001b[1;33m\u001b[0m\u001b[0m\n",
      "\u001b[1;31mRuntimeError\u001b[0m: PytorchStreamReader failed reading zip archive: failed finding central directory"
     ]
    }
   ],
   "source": [
    "model.load_state_dict(torch.load('cache/44.2-5-loss-0.07_1.pth'))\n",
    "#model.load_state_dict(torch.load('/content/drive/My Drive/f1ml/sd/26-5-loss-0.03.pth'))\n",
    "#model.load_state_dict(torch.load('/content/drive/My Drive/f1ml/sd/11-5-loss-37.31.pth'))\n",
    "model.eval()\n",
    "ds.set_year(2020)\n",
    "ds.set_round(30)\n",
    "p, n = ds[0]\n",
    "p = p.to(device)\n",
    "hid_state, cell_state = model.zero_states()\n",
    "states = (hid_state.to(device), cell_state.to(device))\n",
    "out, s = model(p.unsqueeze(0).unsqueeze(0).float(), states)\n",
    "out = out.squeeze().squeeze()\n",
    "print(out)\n",
    "for i in range(50):\n",
    "  out, s = model(out_to_in(p.to(cpu), out.to(cpu), False).to(device).unsqueeze(0).unsqueeze(0).float(), s)\n",
    "  out = out.squeeze().squeeze()\n",
    "  a, b, c, d = pos_df(p.to(cpu), out.to(cpu))\n",
    "  print(a,b,c)\n",
    "  print(d)\n",
    "print(out)\n",
    "out = out.detach().to(cpu)\n",
    "d"
   ]
  },
  {
   "cell_type": "code",
   "execution_count": null,
   "metadata": {},
   "outputs": [],
   "source": []
  }
 ],
 "metadata": {
  "kernelspec": {
   "display_name": "Python (learn-env)",
   "language": "python",
   "name": "learn-env"
  },
  "language_info": {
   "codemirror_mode": {
    "name": "ipython",
    "version": 3
   },
   "file_extension": ".py",
   "mimetype": "text/x-python",
   "name": "python",
   "nbconvert_exporter": "python",
   "pygments_lexer": "ipython3",
   "version": "3.8.5"
  }
 },
 "nbformat": 4,
 "nbformat_minor": 4
}

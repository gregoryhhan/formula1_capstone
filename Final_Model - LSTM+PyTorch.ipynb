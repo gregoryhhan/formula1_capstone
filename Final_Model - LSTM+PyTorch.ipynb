{
 "cells": [
  {
   "cell_type": "markdown",
   "metadata": {},
   "source": [
    "# Import"
   ]
  },
  {
   "cell_type": "code",
   "execution_count": null,
   "metadata": {},
   "outputs": [],
   "source": [
    "import matplotlib.pyplot as plt\n",
    "import pandas as pd\n",
    "import numpy as np\n",
    "from tqdm.auto import tqdm\n",
    "import os\n",
    "import torch, torch.nn as nn, torch.optim as optim, torch.nn.functional as F\n",
    "import math"
   ]
  },
  {
   "cell_type": "code",
   "execution_count": null,
   "metadata": {},
   "outputs": [],
   "source": [
    "from google.colab import drive\n",
    "drive.mount('/content/drive')"
   ]
  },
  {
   "cell_type": "code",
   "execution_count": null,
   "metadata": {},
   "outputs": [],
   "source": [
    "directory = '/content/drive/My Drive/formula1_capstone/data/'"
   ]
  },
  {
   "cell_type": "code",
   "execution_count": null,
   "metadata": {},
   "outputs": [],
   "source": [
    "races = pd.read_csv(directory + 'races.csv')\n",
    "circuits = pd.read_csv(directory + 'circuits.csv')\n",
    "drivers = pd.read_csv(directory + 'drivers.csv')\n",
    "constructor = pd.read_csv(directory + 'constructors.csv')\n",
    "status = pd.read_csv(directory + 'status.csv')\n",
    "d_standings = pd.read_csv(directory + 'driver_standings.csv')\n",
    "c_standings = pd.read_csv(directory + 'constructor_standings.csv')\n",
    "quali = pd.read_csv(directory + 'qualifying.csv')\n",
    "pit_stops = pd.read_csv(directory + 'pit_stops.csv')\n",
    "lap_times = pd.read_csv(directory + 'lap_times.csv')\n",
    "results = pd.read_csv(directory + 'results.csv')"
   ]
  },
  {
   "cell_type": "code",
   "execution_count": null,
   "metadata": {},
   "outputs": [],
   "source": [
    "def race_info(raceId):\n",
    "  race_df = races.query(f'raceId  == {raceId}')\n",
    "  if (race_df.empty):\n",
    "    return None, None, None\n",
    "  _year = race_df['year'].item()\n",
    "  _round = race_df['round'].item()\n",
    "  _circuitId = race_df['circuitId'].item()\n",
    "  return _year, _round, _circuitId\n",
    "\n",
    "def circuit_info(circuitId):\n",
    "  circuit_df = circuits.query(f'circuitId  == {circuitId}')\n",
    "  if (circuit_df.empty):\n",
    "    return None, None, None\n",
    "  _name = circuit_df['name'].item()\n",
    "  _location = circuit_df['location'].item()\n",
    "  _country = circuit_df['country'].item()\n",
    "  return _name, _location, _country\n",
    "\n",
    "def driver_info(id):\n",
    "  drivers_df = drivers.query(f'driverId  == {id}')\n",
    "  if (drivers_df.empty):\n",
    "    return None, None, None, None, None, None\n",
    "  _number = drivers_df['number'].item()\n",
    "  _code = drivers_df['code'].item()\n",
    "  _forename = drivers_df['forename'].item()\n",
    "  _surname = drivers_df['surname'].item()\n",
    "  _dob = drivers_df['dob'].item()\n",
    "  _nationality = drivers_df['nationality'].item()\n",
    "  return _number, _code, _forename, _surname, _dob, _nationality\n",
    "\n",
    "def constructor_info(id):\n",
    "  constructor_df = constructor.query(f'constructorId  == {id}')\n",
    "  if (constructor_df.empty):\n",
    "    return None, None\n",
    "  _name = drivers['name'].item()\n",
    "  _nationality = drivers['nationality'].item()\n",
    "  return _name, _nationality\n",
    "\n",
    "def status_info(id):\n",
    "  status_df = status.query(f'statusId == {id}')\n",
    "  if (status_df.empty):\n",
    "    return None\n",
    "  _sstr = status_df['status'].item()\n",
    "  return _sstr"
   ]
  },
  {
   "cell_type": "markdown",
   "metadata": {},
   "source": [
    "# Feature Engineering"
   ]
  },
  {
   "cell_type": "markdown",
   "metadata": {},
   "source": [
    "### Changing Laptimes "
   ]
  },
  {
   "cell_type": "markdown",
   "metadata": {},
   "source": [
    "I changed the laptimes from MM(minutes).SS(seconds).mm(milliseconds) to an integer to make it easier to understand on the basis of seconds."
   ]
  },
  {
   "cell_type": "code",
   "execution_count": null,
   "metadata": {},
   "outputs": [],
   "source": [
    "# Changing the time from 00.00.00 to an integer\n",
    "def time_to_int(time):\n",
    "  if (time == float):\n",
    "    return time\n",
    "  time_str = str(time)\n",
    "  time_series = time_str.rsplit(':')\n",
    "  if ('\\\\N' in time_str):\n",
    "    return None\n",
    "  if (not '.' in time_str):\n",
    "    return None\n",
    "  if (len(time_series) > 1):\n",
    "    return int(time_series[0]) * 60 + float(time_series[1])\n",
    "  else:\n",
    "    return float(time_series[0])"
   ]
  },
  {
   "cell_type": "markdown",
   "metadata": {},
   "source": [
    "### Embedding for Car Status"
   ]
  },
  {
   "cell_type": "markdown",
   "metadata": {},
   "source": [
    "Use the same method of grouping similar car statuses and embedding for each group from 2nd modelling notebook."
   ]
  },
  {
   "cell_type": "code",
   "execution_count": null,
   "metadata": {},
   "outputs": [],
   "source": [
    "status_emb = [\n",
    "  [4.0, 3.0, 130.0], # Accident/Collision\n",
    "  [22.0, 5.0, 10.0, 23.0, 44.0, 47.0, 30.0, 32.0, 8.0, 38.0, 43.0, 85.0, 9.0, 86.0, 6.0, 2.0, 7.0, 87.0, 71.0, 41.0, 46.0, 37.0, 65.0, 78.0, 25.0, 74.0, 75.0, 26.0, 51.0, 40.0, 79.0, 36.0, 83.0, 80.0, 21.0, 69.0, 72.0, 70.0, 27.0, 60.0, 63.0, 29.0, 64.0, 66.0, 56.0, 59.0, 61.0, 42.0, 39.0, 48.0, 49.0, 34.0, 35.0, 28.0, 24.0, 33.0, 129.0, 76.0, 91.0, 131.0, 101.0, 132.0, 135.0,  84.0,  136.0,  105.0,  137.0,  138.0,  139.0], # Car issues\n",
    "  [11.0,  13.0,  12.0,  14.0,  17.0,  15.0,  16.0, 18.0,  55.0,  58.0,  45.0, 88.0], # Lapped\n",
    "  [0.0], # No problem\n",
    "  [77.0, 73.0, 82.0, 81.0, 62.0, 54.0, 31.0, 96.0], # Other\n",
    "  [20.0] #'Spun off'\n",
    "] \n",
    "\n",
    "def status_emb(id):\n",
    "  _embed = np.zeros(6)\n",
    "  for i in range(6):\n",
    "    if id in status_emb[i]:\n",
    "      _embed[i] = 1\n",
    "      return _embed\n",
    "  _embed[4] = 1\n",
    "  return _embed # Other\n",
    "\n",
    "def status_unbed(array, retired=False):\n",
    "  _a = np.copy(array)\n",
    "  if (retired):\n",
    "    _a[3] = 0\n",
    "  _i = np.argmax(_a)\n",
    "  if (_i == 0):\n",
    "    return 'Accident/Collision'\n",
    "  elif (_i == 1):\n",
    "    return 'Car Issues'\n",
    "  elif (_i == 2):\n",
    "    return 'Lapped'\n",
    "  elif (_i == 3):\n",
    "    return 'No Problem'\n",
    "  elif (_i == 4):\n",
    "    return 'Other'\n",
    "  elif (_i == 5):\n",
    "    return 'Spun off'\n",
    "  else:\n",
    "    return 'something is wrong'"
   ]
  },
  {
   "cell_type": "markdown",
   "metadata": {},
   "source": [
    "## Embedding for Lap Times"
   ]
  },
  {
   "cell_type": "code",
   "execution_count": null,
   "metadata": {},
   "outputs": [],
   "source": [
    "def laptime_embed(laptime):\n",
    "  # laptime should be a float with 3 decimal places\n",
    "  _lt = math.floor(laptime * 10)\n",
    "  _lt_emb = []\n",
    "  _ret = []\n",
    "  for i in range(4):\n",
    "    _lt_emb.append(int(_lt % 10))\n",
    "    _lt = math.floor(_lt / 10)\n",
    "  _ret = np.zeros(2)\n",
    "  if (_lt_emb[-1] == 1):\n",
    "    _ret[0] = 1\n",
    "  elif (_lt_emb[-1] == 2):\n",
    "    _ret[1] = 1\n",
    "  elif (_lt_emb[-1] > 2):\n",
    "    _ret[0] = 1\n",
    "    _ret[1] = 1\n",
    "  for i in range(3):\n",
    "    _t = np.zeros(10)\n",
    "    _t[_lt_emb[2 - i]] = 1\n",
    "    _ret = np.append(_ret, _t)\n",
    "  return _ret\n",
    "\n",
    "def laptime_unbed(l_array):\n",
    "  _ret = 0\n",
    "  if (l_array[0] >= 0.5 and l_array[1] >= 0.5):\n",
    "    _ret += 300\n",
    "  elif (l_array[0] >= 0.5):\n",
    "    _ret += 100\n",
    "  elif (l_array[1] >= 0.5):\n",
    "    _ret += 200\n",
    "  _ret += np.argmax(l_array[2:12]) * 10\n",
    "  _ret += np.argmax(l_array[12:22]) * 1\n",
    "  _ret += np.argmax(l_array[22:32]) * 0.1\n",
    "  return _ret"
   ]
  },
  {
   "cell_type": "code",
   "execution_count": null,
   "metadata": {},
   "outputs": [],
   "source": [
    "laptime_testing = laptime_embed(123.456)\n",
    "print(len(laptime_testing))"
   ]
  },
  {
   "cell_type": "code",
   "execution_count": null,
   "metadata": {},
   "outputs": [],
   "source": [
    "undo_laptime_embed = laptime_unbed(laptime_testing)\n",
    "print(undo_laptime_embed)"
   ]
  },
  {
   "cell_type": "code",
   "execution_count": null,
   "metadata": {},
   "outputs": [],
   "source": [
    "drivers_short = pd.read_csv(directory + 'drivers_short.csv')\n",
    "# from driverId to our id\n",
    "def driver_embed_id(driverId):\n",
    "  row = drivers_short.query(f'driverId == {driverId}').index\n",
    "  if (row.empty):\n",
    "    return 0\n",
    "  return row.item() + 1\n",
    "\n",
    "# from our id to driverId\n",
    "def driver_unbed_id(id):\n",
    "  row = drivers_short.iloc[id-1]\n",
    "  return row['driverId']\n",
    "\n",
    "# from our id to array\n",
    "def driver_embed(id):\n",
    "  _e = np.zeros(130)\n",
    "  _e[id-1] = 1\n",
    "  return _e\n",
    "\n",
    "# from array to our id\n",
    "def driver_unbed(d_array):\n",
    "  return np.argmax(d_array) + 1"
   ]
  },
  {
   "cell_type": "code",
   "execution_count": null,
   "metadata": {},
   "outputs": [],
   "source": [
    "class RaceDataset(torch.utils.data.Dataset):\n",
    "  def __init__(self, dir):\n",
    "\n",
    "    self.dir = dir\n",
    "    self.year = 2001\n",
    "    self.round = 1\n",
    "    self.cache = {}\n",
    "\n",
    "    # number of races this year\n",
    "    self.cur_year = int(len(os.listdir(self.dir + f'{self.year}/'))/2)\n",
    "\n",
    "\n",
    "    if (self.round < self.cur_year):\n",
    "      self.cur_race = np.load(self.dir + f'{self.year}/{self.round-1}_in.npy'), np.load(self.dir + f'{self.year}/{self.round-1}_exp.npy')\n",
    "    else:\n",
    "      self.cur_race = np.load(self.dir + f'{self.year}/{self.cur_year-1}_in.npy'), np.load(self.dir + f'{self.year}/{self.cur_year - 1}_exp.npy')\n",
    "    self.cache[f'{self.year}_{self.round}'] = self.cur_race\n",
    "\n",
    "\n",
    "  def set_year(self, year):\n",
    "    if (year == 2021):\n",
    "      self.year = 2021\n",
    "      return\n",
    "    self.year = year\n",
    "    self.cur_year = int(len(os.listdir(self.dir + f'{self.year}/'))/2)\n",
    "\n",
    "  def set_round(self, round):\n",
    "    self.round = round\n",
    "    if (self.year == 2021):\n",
    "      return # no data yet\n",
    "\n",
    "    if (f'{self.year}_{self.round}' in self.cache):\n",
    "      self.cur_race = self.cache[f'{self.year}_{self.round}']\n",
    "      return\n",
    "    # set round, if round > number of rounds in that season, set to the last round\n",
    "    if (self.round < self.cur_year):\n",
    "      self.cur_race = np.load(self.dir + f'{self.year}/{self.round-1}_in.npy'), np.load(self.dir + f'{self.year}/{self.round-1}_exp.npy')\n",
    "    else:\n",
    "      self.cur_race = np.load(self.dir + f'{self.year}/{self.cur_year-1}_in.npy'), np.load(self.dir + f'{self.year}/{self.cur_year - 1}_exp.npy')\n",
    "    self.cache[f'{self.year}_{self.round}'] = self.cur_race\n",
    "\n",
    "  def next_round(self):\n",
    "    self.round += 1\n",
    "    if (self.round < self.cur_year):\n",
    "      self.set_round(self.round)\n",
    "    else:\n",
    "      self.round = 1\n",
    "      self.set_year(self.year+1)\n",
    "      self.set_round(self.round)\n",
    "\n",
    "\n",
    "  def __len__(self):\n",
    "    return len(self.cur_race[0])\n",
    "\n",
    "  def __getitem__(self, i):\n",
    "    cur_ret, next_ret = self.cur_race[0][i], self.cur_race[1][i]\n",
    "\n",
    "    return (torch.from_numpy(cur_ret), torch.from_numpy(next_ret))"
   ]
  },
  {
   "cell_type": "code",
   "execution_count": null,
   "metadata": {},
   "outputs": [],
   "source": [
    "ds = RaceDataset(directory + 'races_npy/')"
   ]
  },
  {
   "cell_type": "code",
   "execution_count": null,
   "metadata": {},
   "outputs": [],
   "source": [
    "ds[0]"
   ]
  },
  {
   "cell_type": "code",
   "execution_count": null,
   "metadata": {},
   "outputs": [],
   "source": [
    "len(ds[0][0])"
   ]
  },
  {
   "cell_type": "code",
   "execution_count": null,
   "metadata": {},
   "outputs": [],
   "source": [
    "len(ds[0][1])"
   ]
  },
  {
   "cell_type": "code",
   "execution_count": null,
   "metadata": {},
   "outputs": [],
   "source": [
    "def pos_df(lap_in, out, num_of_laps=1):\n",
    "  df = pd.DataFrame(columns=['code', 'driver', 'position', 'status', 'laptime'])\n",
    "  lapin = lap_in.detach().clone().numpy()\n",
    "  output = out.detach().clone().numpy()\n",
    "  _name, _loc, _country = circuit_info(np.argmax(lapin[:130]))\n",
    "  for i in range(20):\n",
    "    _d_idx = driver_unbed_id(driver_unbed(lapin[131 + i * 196 : 131 + i * 196 + 130]))\n",
    "    _num, _code, _fn, _ln, _, _ = driver_info(_d_idx)\n",
    "    position = np.argmax(output[i*60 : i*60 + 21]) + 1\n",
    "    pitting = output[i*60 + 21] * num_of_laps\n",
    "    if (pitting == 0):\n",
    "      pitting = 'NA'\n",
    "    _retired = False\n",
    "    if (position == 21):\n",
    "      _retired = True\n",
    "    _status = status_unbed(output[i*60 + 22: i*60 + 28], _retired)\n",
    "    #_time = laptime_unbed(output[i*34 + 28:])\n",
    "    df = df.append({\n",
    "        'code': f'{_code}',\n",
    "        'driver': f'{_fn} {_ln}',\n",
    "        'position': position,\n",
    "        'status': _status,\n",
    "        'laptime': _time\n",
    "    }, ignore_index=True)\n",
    "\n",
    "  df = df.sort_values(by=['position', 'laptime'], ascending=[True])\n",
    "  return _name, _loc, _country, df"
   ]
  },
  {
   "cell_type": "code",
   "execution_count": null,
   "metadata": {},
   "outputs": [],
   "source": [
    "ds.set_year(2001)\n",
    "ds.set_round(1)"
   ]
  },
  {
   "cell_type": "code",
   "execution_count": null,
   "metadata": {},
   "outputs": [],
   "source": [
    "_, _, _, df = pos_df(ds[1][0], ds[1][1])"
   ]
  },
  {
   "cell_type": "code",
   "execution_count": null,
   "metadata": {},
   "outputs": [],
   "source": [
    "df"
   ]
  },
  {
   "cell_type": "code",
   "execution_count": null,
   "metadata": {},
   "outputs": [],
   "source": [
    "ds[0][0].shape"
   ]
  },
  {
   "cell_type": "code",
   "execution_count": null,
   "metadata": {},
   "outputs": [],
   "source": [
    "def out_to_in(in_, out_, random=False, num_of_laps=50):\n",
    "  _ret = in_.detach().clone().numpy()\n",
    "  _o = out_.detach().clone().numpy()\n",
    "  _o = _o.reshape([1200])\n",
    "  _ret = _ret.reshape([4051])\n",
    "  j = 0\n",
    "  for i in range(0, 20):\n",
    "    _ret[131 + i*196 + 135: i*196 + 131 + 195] = _o[j*60: (j+1) * 60]\n",
    "    if (round(_o[j*60 + 21] * num_of_laps) <= 1):\n",
    "      _ret[131 + i*196 + 130 + 26] = 1\n",
    "    else:\n",
    "      _ret[131 + i*196 + 130 + 26] = 0\n",
    "    if (random):\n",
    "      _ret[i * 196 + 131 + 195] = np.random.uniform(0, 20, [1])\n",
    "    j += 1\n",
    "\n",
    "  return torch.from_numpy(_ret).float()"
   ]
  },
  {
   "cell_type": "code",
   "execution_count": null,
   "metadata": {},
   "outputs": [],
   "source": [
    "outfromin = out_to_in(ds[0][0], ds[0][1])"
   ]
  },
  {
   "cell_type": "code",
   "execution_count": null,
   "metadata": {},
   "outputs": [],
   "source": [
    "print(outfromin)"
   ]
  },
  {
   "cell_type": "code",
   "execution_count": null,
   "metadata": {},
   "outputs": [],
   "source": [
    "_, _, _, df2 = pos_df(outfromin, ds[0][1])"
   ]
  },
  {
   "cell_type": "code",
   "execution_count": null,
   "metadata": {},
   "outputs": [],
   "source": [
    "df2"
   ]
  },
  {
   "cell_type": "code",
   "execution_count": null,
   "metadata": {},
   "outputs": [],
   "source": [
    "class RacePredictionModel(nn.Module):\n",
    "    def __init__(self, input_size, output_size, lstm_hids, lstm_layers, dropout):\n",
    "        super(RacePredictionModel, self).__init__()\n",
    "\n",
    "        self.input_size = input_size\n",
    "        self.lstm_layers = lstm_layers\n",
    "        self.lstm_hids = lstm_hids\n",
    "\n",
    "        self.lstm = nn.LSTM(input_size=input_size, hidden_size=lstm_hids, num_layers=lstm_layers, dropout=dropout, batch_first=True)\n",
    "\n",
    "        self.fc = nn.Linear(lstm_hids, output_size)\n",
    "\n",
    "        nn.init.xavier_uniform_(self.fc.weight.data)\n",
    "        for name, params in self.lstm.named_parameters():\n",
    "            if name[:6] == 'weight':\n",
    "                nn.init.xavier_uniform_(params)\n",
    "            elif name[:4] == 'bias':\n",
    "                nn.init.constant_(params, 0.0)\n",
    "\n",
    "    def zero_states(self, batchsize=1):\n",
    "        hidden_state = torch.zeros(self.lstm_layers, batchsize, self.lstm_hids)\n",
    "        cell_state = torch.zeros(self.lstm_layers, batchsize, self.lstm_hids)\n",
    "        return (hidden_state, cell_state)\n",
    "\n",
    "    def forward(self, ins, prev_states=None):\n",
    "        lstm_outs, next_states = self.lstm(ins, prev_states)\n",
    "        outs = self.fc(lstm_outs)\n",
    "        return outs, next_states"
   ]
  },
  {
   "cell_type": "code",
   "execution_count": null,
   "metadata": {},
   "outputs": [],
   "source": [
    "def run_train(model, ds, crit, opt, sched):\n",
    "    model.train()\n",
    "    total_loss, total_count = 0, 0\n",
    "\n",
    "    ds.set_year(2001)\n",
    "    ds.set_round(1)\n",
    "\n",
    "    while (ds.year != 2021):\n",
    "      hid_state, cell_state = model.zero_states()\n",
    "      states = hid_state.to(device), cell_state.to(device)\n",
    "      for i in range(len(ds)):\n",
    "          opt.zero_grad()\n",
    "          lap_in, lap_exp = ds[i]\n",
    "          \n",
    "          if (True):\n",
    "            lap_in = lap_in.unsqueeze(0)\n",
    "            lap_exp = lap_exp.unsqueeze(0)\n",
    "          lap_in = lap_in.unsqueeze(0).float()\n",
    "          lap_exp = lap_exp.unsqueeze(0).float()\n",
    "\n",
    "          lap_in, lap_exp = lap_in.to(device), lap_exp.to(device)\n",
    "          lap_out, states = model(lap_in, states)\n",
    "          loss = crit(lap_out, lap_exp)\n",
    "          for s in states:\n",
    "              s.detach_()\n",
    "          loss.backward()\n",
    "          if (math.isnan(loss)):\n",
    "            print('Loss is nan')\n",
    "            print(f'Year: {ds.year}')\n",
    "            print(f'round: {ds.round}')\n",
    "            print(f'lap: {i}')\n",
    "            print(lap_in)\n",
    "            input()\n",
    "          opt.step()\n",
    "          total_loss += loss.item() * 1\n",
    "          total_count += 1\n",
    "      ds.next_round()\n",
    "\n",
    "    sched.step()\n",
    "    return total_loss/total_count\n",
    "\n",
    "def run_test(model, ds, crit):\n",
    "    model.eval()\n",
    "    total_loss, total_count = 0, 0\n",
    "\n",
    "    ds.set_year(2020)\n",
    "    ds.set_round(1)\n",
    "\n",
    "    hid_state, cell_state = model.zero_states()\n",
    "    states = hid_state.to(device), cell_state.to(device)\n",
    "\n",
    "    for i in range(len(ds)):\n",
    "      if (i == 0):\n",
    "        lap_in, lap_exp = ds[i]\n",
    "      else:\n",
    "        _, lap_exp = ds[i]\n",
    "        lap_in = out_to_in(lap_in.cpu(), lap_out.cpu()).to(device)\n",
    "      #if (i == 0):\n",
    "      if (True):\n",
    "        lap_in = lap_in.unsqueeze(0)\n",
    "        lap_exp = lap_exp.unsqueeze(0)\n",
    "      lap_in = lap_in.unsqueeze(0).float()\n",
    "      lap_exp = lap_exp.unsqueeze(0).float()\n",
    "      lap_in, lap_exp = lap_in.to(device), lap_exp.to(device)\n",
    "      lap_out, states = model(lap_in, states)\n",
    "      loss = crit(lap_out, lap_exp)\n",
    "      total_loss += loss.item() * 1\n",
    "      total_count += 1\n",
    "\n",
    "    return total_loss/total_count\n",
    "\n",
    "def run_all(model, ds, crit, opt, sched, versionId, n_epochs=10):\n",
    "    for epoch in tqdm(range(n_epochs), desc='epochs', unit='ep'):\n",
    "      train_loss = run_train(model, ds, crit, opt, sched)\n",
    "      test_loss = run_test(model, ds, crit)\n",
    "      tqdm.write(f'epoch {epoch}   train loss {train_loss:.6f}  test loss {test_loss:.6f}')\n",
    "      if epoch % 5 == 0:\n",
    "        torch.save(model.state_dict(), f'/content/drive/My Drive/formula1_capstone/data/loss_folder/{versionId}-{epoch}-loss-{test_loss:.2f}.pth')"
   ]
  },
  {
   "cell_type": "code",
   "execution_count": null,
   "metadata": {},
   "outputs": [],
   "source": [
    "ds = RaceDataset(directory + 'races_npy/')"
   ]
  },
  {
   "cell_type": "code",
   "execution_count": null,
   "metadata": {},
   "outputs": [],
   "source": [
    "device = torch.device('cuda:0')\n",
    "#device = torch.device('cpu')\n",
    "model = RacePredictionModel(4051, 1200, 1200, 2, 0.2)\n",
    "model.to(device)\n",
    "crit = nn.MSELoss().to(device)\n",
    "opt = optim.Adam(model.parameters(), lr=0.001)\n",
    "sched = optim.lr_scheduler.StepLR(opt, 1, gamma=0.2)"
   ]
  },
  {
   "cell_type": "code",
   "execution_count": null,
   "metadata": {
    "scrolled": true
   },
   "outputs": [],
   "source": [
    "run_all(model, ds, crit, opt, sched, 3, 10)"
   ]
  },
  {
   "cell_type": "code",
   "execution_count": null,
   "metadata": {},
   "outputs": [],
   "source": [
    "train_mse = run_train(model, ds, crit, opt, sched)"
   ]
  },
  {
   "cell_type": "code",
   "execution_count": null,
   "metadata": {},
   "outputs": [],
   "source": [
    "test_mse = run_test(model, ds, crit)"
   ]
  },
  {
   "cell_type": "code",
   "execution_count": null,
   "metadata": {},
   "outputs": [],
   "source": [
    "train_mse"
   ]
  },
  {
   "cell_type": "code",
   "execution_count": null,
   "metadata": {},
   "outputs": [],
   "source": [
    "test_mse"
   ]
  },
  {
   "cell_type": "code",
   "execution_count": null,
   "metadata": {},
   "outputs": [],
   "source": [
    "test_rmse = test_mse ** 0.5\n",
    "test_rmse"
   ]
  },
  {
   "cell_type": "code",
   "execution_count": null,
   "metadata": {},
   "outputs": [],
   "source": [
    "cpu = torch.device('cpu')\n",
    "model.load_state_dict(torch.load('/content/drive/My Drive/formula1_capstone/data/loss_folder/3-5-loss-0.06.pth'))\n",
    "model.to(cpu)"
   ]
  },
  {
   "cell_type": "code",
   "execution_count": null,
   "metadata": {},
   "outputs": [],
   "source": [
    "gpu = torch.device('cuda')\n",
    "model.to(gpu)"
   ]
  },
  {
   "cell_type": "code",
   "execution_count": null,
   "metadata": {},
   "outputs": [],
   "source": [
    "model.load_state_dict(torch.load('/content/drive/My Drive/formula1_capstone/data/loss_folder/3-5-loss-0.06.pth'))\n",
    "model.eval()\n",
    "ds.set_year(2020)\n",
    "ds.set_round(16)\n",
    "p, n = ds[0]\n",
    "p = p.to(device)\n",
    "hid_state, cell_state = model.zero_states()\n",
    "states = (hid_state.to(device), cell_state.to(device))\n",
    "out, s = model(p.unsqueeze(0).unsqueeze(0).float(), states)\n",
    "out = out.squeeze().squeeze()\n",
    "for i in range(50):\n",
    "  out, s = model(out_to_in(p.to(cpu), out.to(cpu), True).to(device).unsqueeze(0).unsqueeze(0).float(), s)\n",
    "  out = out.squeeze().squeeze()\n",
    "  a, b, c, d = pos_df(p.to(cpu), out.to(cpu), len(ds))\n",
    "out = out.detach().to(cpu)\n",
    "pos_df(p.to(cpu), n.to(cpu))"
   ]
  },
  {
   "cell_type": "code",
   "execution_count": null,
   "metadata": {},
   "outputs": [],
   "source": [
    "d"
   ]
  }
 ],
 "metadata": {
  "kernelspec": {
   "display_name": "Python (learn-env)",
   "language": "python",
   "name": "learn-env"
  },
  "language_info": {
   "codemirror_mode": {
    "name": "ipython",
    "version": 3
   },
   "file_extension": ".py",
   "mimetype": "text/x-python",
   "name": "python",
   "nbconvert_exporter": "python",
   "pygments_lexer": "ipython3",
   "version": "3.8.5"
  }
 },
 "nbformat": 4,
 "nbformat_minor": 4
}
